
  {
   "cell_type": "code",
   "execution_count": 1,
   "metadata": {},
   "outputs": [],
   "source": [
    "\n",
    "import pandas as pd\n",
    "import numpy as np\n",
    "import matplotlib.pyplot as plt\n",
    "import seaborn as sns\n",
    " # Loading all the libraries\n",
    "\n",
    "\n"
   ]
  },
  {
   "cell_type": "markdown",
   "metadata": {},
   "source": [
    "## Load data"
   ]
  },
  {
   "cell_type": "markdown",
   "metadata": {},
   "source": []
  },
  {
   "cell_type": "code",
   "execution_count": 2,
   "metadata": {},
   "outputs": [],
   "source": [
    "\n",
    "\n",
    "users_df = pd.read_csv('/datasets/megaline_users.csv')\n",
    "calls_df = pd.read_csv('/datasets/megaline_calls.csv')\n",
    "messages_df = pd.read_csv('/datasets/megaline_messages.csv')\n",
    "internet_df = pd.read_csv('/datasets/megaline_internet.csv')\n",
    "plans_df = pd.read_csv('/datasets/megaline_plans.csv')\n",
    " # Load the data files into different DataFrames\n",
    "\n"
   ]
  },
  {
   "cell_type": "markdown",
   "metadata": {},
   "source": [
    "## Prepare the data"
   ]
  },
  {
   "cell_type": "markdown",
   "metadata": {},
   "source": [
    "[The data for this project is split into several tables. Explore each one to get an initial understanding of the data. Do necessary corrections to each table if necessary.]"
   ]
  },
  {
   "cell_type": "markdown",
   "metadata": {},
   "source": [
    "## Plans"
   ]
  },
  {
   "cell_type": "code",
   "execution_count": 3,
   "metadata": {},
   "outputs": [
    {
     "name": "stdout",
     "output_type": "stream",
     "text": [
      "   messages_included  mb_per_month_included  minutes_included  \\\n",
      "0                 50                  15360               500   \n",
      "1               1000                  30720              3000   \n",
      "\n",
      "   usd_monthly_pay  usd_per_gb  usd_per_message  usd_per_minute plan_name  \n",
      "0               20          10             0.03            0.03      surf  \n",
      "1               70           7             0.01            0.01  ultimate  \n",
      "<class 'pandas.core.frame.DataFrame'>\n",
      "RangeIndex: 2 entries, 0 to 1\n",
      "Data columns (total 8 columns):\n",
      " #   Column                 Non-Null Count  Dtype  \n",
      "---  ------                 --------------  -----  \n",
      " 0   messages_included      2 non-null      int64  \n",
      " 1   mb_per_month_included  2 non-null      int64  \n",
      " 2   minutes_included       2 non-null      int64  \n",
      " 3   usd_monthly_pay        2 non-null      int64  \n",
      " 4   usd_per_gb             2 non-null      int64  \n",
      " 5   usd_per_message        2 non-null      float64\n",
      " 6   usd_per_minute         2 non-null      float64\n",
      " 7   plan_name              2 non-null      object \n",
      "dtypes: float64(2), int64(5), object(1)\n",
      "memory usage: 256.0+ bytes\n",
      "None\n",
      "       messages_included  mb_per_month_included  minutes_included  \\\n",
      "count           2.000000               2.000000          2.000000   \n",
      "mean          525.000000           23040.000000       1750.000000   \n",
      "std           671.751442           10861.160159       1767.766953   \n",
      "min            50.000000           15360.000000        500.000000   \n",
      "25%           287.500000           19200.000000       1125.000000   \n",
      "50%           525.000000           23040.000000       1750.000000   \n",
      "75%           762.500000           26880.000000       2375.000000   \n",
      "max          1000.000000           30720.000000       3000.000000   \n",
      "\n",
      "       usd_monthly_pay  usd_per_gb  usd_per_message  usd_per_minute  \n",
      "count         2.000000     2.00000         2.000000        2.000000  \n",
      "mean         45.000000     8.50000         0.020000        0.020000  \n",
      "std          35.355339     2.12132         0.014142        0.014142  \n",
      "min          20.000000     7.00000         0.010000        0.010000  \n",
      "25%          32.500000     7.75000         0.015000        0.015000  \n",
      "50%          45.000000     8.50000         0.020000        0.020000  \n",
      "75%          57.500000     9.25000         0.025000        0.025000  \n",
      "max          70.000000    10.00000         0.030000        0.030000  \n",
      "messages_included        0\n",
      "mb_per_month_included    0\n",
      "minutes_included         0\n",
      "usd_monthly_pay          0\n",
      "usd_per_gb               0\n",
      "usd_per_message          0\n",
      "usd_per_minute           0\n",
      "plan_name                0\n",
      "dtype: int64\n",
      "(2, 8)\n"
     ]
    }
   ],
   "source": [
    "print(plans_df.head())\n",
    "\n",
    "print(plans_df.info()) # Print the general/summary information about the plans' DataFrame\n",
    "\n",
    "print(plans_df.describe())\n",
    "\n",
    "print(plans_df.isnull().sum())\n",
    "\n",
    "print(plans_df.shape)\n",
    "\n"
   ]
  },
  {
   "cell_type": "markdown",
   "metadata": {},
   "source": [
    "<div class=\"alert alert-danger\">\n",
    "    <b>Reviewer's comment – Iteration 2:</b><br>\n",
    "\n",
    "Here and elsewhere in the notebook, please remove all instances of reading a data file you have already read into a dataframe.\n",
    "</div>"
   ]
  },
  {
   "cell_type": "markdown",
   "metadata": {},
   "source": [
    "<div class=\"alert alert-success\">\n",
    "    <b>Reviewer's comment – Iteration 3:</b><br>\n",
    "Great!\n",
    "</div>"
   ]
  },
  {
   "cell_type": "code",
   "execution_count": 4,
   "metadata": {},
   "outputs": [
    {
     "name": "stdout",
     "output_type": "stream",
     "text": [
      "All available plans:\n",
      "   messages_included  mb_per_month_included  minutes_included  \\\n",
      "0                 50                  15360               500   \n",
      "1               1000                  30720              3000   \n",
      "\n",
      "   usd_monthly_pay  usd_per_gb  usd_per_message  usd_per_minute plan_name  \n",
      "0               20          10             0.03            0.03      surf  \n",
      "1               70           7             0.01            0.01  ultimate  \n"
     ]
    }
   ],
   "source": [
    "plans_df.sample(2) # Print a sample of data for plans\n",
    "plans_df.tail()\n",
    "print(\"All available plans:\")\n",
    "print(plans_df)"
   ]
  },
  {
   "cell_type": "markdown",
   "metadata": {},
   "source": [
    "[Describe what you see and notice in the general information and the printed data sample for the above price of data. Are there any issues (inappropriate data types, missing data etc) that may need further investigation and changes? How that can be fixed?]"
   ]
  },
  {
   "cell_type": "markdown",
   "metadata": {},
   "source": [
    " "
   ]
  },
  {
   "cell_type": "markdown",
   "metadata": {
    "collapsed": false,
    "jupyter": {
     "outputs_hidden": false
    }
   },
   "source": [
    "## Fix data"
   ]
  },
  {
   "cell_type": "markdown",
   "metadata": {},
   "source": [
    "[Fix obvious issues with the data given the initial observations.]"
   ]
  },
  {
   "cell_type": "code",
   "execution_count": 5,
   "metadata": {},
   "outputs": [],
   "source": [
    "calls_df['call_date'] = pd.to_datetime(calls_df['call_date'], errors='coerce') #converting dates to datetime\n",
    "\n",
    "calls_df['duration'] = pd.to_numeric(calls_df['duration'], errors='coerce') # converting numeric columns\n",
    "\n",
    "users_df['churn_date'] = users_df['churn_date'].fillna('Active') # Missing Values\n",
    "\n",
    "calls_df.dropna(subset = ['duration'], inplace = True) # based on context\n",
    "\n",
    "internet_df['gb_used'] = np.ceil(internet_df['mb_used'] / 1024) # MB -> GB\n",
    "\n",
    "calls_df['duration_minutes'] = np.ceil(calls_df['duration'] / 60) # Round seconds to minutes \n",
    "\n",
    "\n",
    "\n"
   ]
  },
  {
   "cell_type": "markdown",
   "metadata": {},
   "source": [
    "\n",
    "<div class=\"alert alert-danger\">\n",
    "    <b>Reviewer's comment – Iteration 1:</b><br>\n",
    "Each dataset (CSV in this case) should be loaded only once in a notebook.\n",
    "</div>"
   ]
  },
  {
   "cell_type": "markdown",
   "metadata": {},
   "source": [
    "<div class=\"alert alert-success\">\n",
    "    <b>Reviewer's comment – Iteration 2:</b><br>\n",
    "Fixed\n",
    "</div>"
   ]
  },
  {
   "cell_type": "markdown",
   "metadata": {},
   "source": [
    "## Enrich data"
   ]
  },
  {
   "cell_type": "markdown",
   "metadata": {},
   "source": [
    "[Add additional factors to the data if you believe they might be useful.]"
   ]
  },
  {
   "cell_type": "code",
   "execution_count": 6,
   "metadata": {},
   "outputs": [],
   "source": [
    "user_avg_call_duration = calls_df.groupby('user_id')['duration'].mean()\n",
    "\n",
    "calls_df['call_date'] = pd.to_datetime(calls_df['call_date'])\n",
    "calls_df['day_of_the_week'] = calls_df['call_date'].dt.day_name() # Usage throughout the week\n",
    "\n",
    "calls_df['hour'] = calls_df['call_date'].dt.hour # Usage throuhout Peak Hour\n",
    "\n",
    "avg_call_duration = calls_df.groupby('user_id')['duration'].mean() # Average call per user\n",
    "\n",
    "avg_data_per_session = internet_df.groupby('user_id')['mb_used'].mean() # Data usage per session\n",
    "\n",
    "calls_count = calls_df.groupby('user_id').size()\n",
    "texts_count = messages_df.groupby('user_id').size()\n",
    "text_call_ratio = texts_count / calls_count #Text to Call ratio\n",
    "\n"
   ]
  },
  {
   "cell_type": "markdown",
   "metadata": {},
   "source": [
    "## Users"
   ]
  },
  {
   "cell_type": "code",
   "execution_count": 7,
   "metadata": {},
   "outputs": [
    {
     "name": "stdout",
     "output_type": "stream",
     "text": [
      "<class 'pandas.core.frame.DataFrame'>\n",
      "RangeIndex: 500 entries, 0 to 499\n",
      "Data columns (total 8 columns):\n",
      " #   Column      Non-Null Count  Dtype \n",
      "---  ------      --------------  ----- \n",
      " 0   user_id     500 non-null    int64 \n",
      " 1   first_name  500 non-null    object\n",
      " 2   last_name   500 non-null    object\n",
      " 3   age         500 non-null    int64 \n",
      " 4   city        500 non-null    object\n",
      " 5   reg_date    500 non-null    object\n",
      " 6   plan        500 non-null    object\n",
      " 7   churn_date  500 non-null    object\n",
      "dtypes: int64(2), object(6)\n",
      "memory usage: 31.4+ KB\n"
     ]
    },
    {
     "data": {
      "text/html": [
       "<div>\n",
       "<style scoped>\n",
       "    .dataframe tbody tr th:only-of-type {\n",
       "        vertical-align: middle;\n",
       "    }\n",
       "\n",
       "    .dataframe tbody tr th {\n",
       "        vertical-align: top;\n",
       "    }\n",
       "\n",
       "    .dataframe thead th {\n",
       "        text-align: right;\n",
       "    }\n",
       "</style>\n",
       "<table border=\"1\" class=\"dataframe\">\n",
       "  <thead>\n",
       "    <tr style=\"text-align: right;\">\n",
       "      <th></th>\n",
       "      <th>user_id</th>\n",
       "      <th>first_name</th>\n",
       "      <th>last_name</th>\n",
       "      <th>age</th>\n",
       "      <th>city</th>\n",
       "      <th>reg_date</th>\n",
       "      <th>plan</th>\n",
       "      <th>churn_date</th>\n",
       "    </tr>\n",
       "  </thead>\n",
       "  <tbody>\n",
       "    <tr>\n",
       "      <th>0</th>\n",
       "      <td>1000</td>\n",
       "      <td>Anamaria</td>\n",
       "      <td>Bauer</td>\n",
       "      <td>45</td>\n",
       "      <td>Atlanta-Sandy Springs-Roswell, GA MSA</td>\n",
       "      <td>2018-12-24</td>\n",
       "      <td>ultimate</td>\n",
       "      <td>Active</td>\n",
       "    </tr>\n",
       "    <tr>\n",
       "      <th>1</th>\n",
       "      <td>1001</td>\n",
       "      <td>Mickey</td>\n",
       "      <td>Wilkerson</td>\n",
       "      <td>28</td>\n",
       "      <td>Seattle-Tacoma-Bellevue, WA MSA</td>\n",
       "      <td>2018-08-13</td>\n",
       "      <td>surf</td>\n",
       "      <td>Active</td>\n",
       "    </tr>\n",
       "    <tr>\n",
       "      <th>2</th>\n",
       "      <td>1002</td>\n",
       "      <td>Carlee</td>\n",
       "      <td>Hoffman</td>\n",
       "      <td>36</td>\n",
       "      <td>Las Vegas-Henderson-Paradise, NV MSA</td>\n",
       "      <td>2018-10-21</td>\n",
       "      <td>surf</td>\n",
       "      <td>Active</td>\n",
       "    </tr>\n",
       "    <tr>\n",
       "      <th>3</th>\n",
       "      <td>1003</td>\n",
       "      <td>Reynaldo</td>\n",
       "      <td>Jenkins</td>\n",
       "      <td>52</td>\n",
       "      <td>Tulsa, OK MSA</td>\n",
       "      <td>2018-01-28</td>\n",
       "      <td>surf</td>\n",
       "      <td>Active</td>\n",
       "    </tr>\n",
       "    <tr>\n",
       "      <th>4</th>\n",
       "      <td>1004</td>\n",
       "      <td>Leonila</td>\n",
       "      <td>Thompson</td>\n",
       "      <td>40</td>\n",
       "      <td>Seattle-Tacoma-Bellevue, WA MSA</td>\n",
       "      <td>2018-05-23</td>\n",
       "      <td>surf</td>\n",
       "      <td>Active</td>\n",
       "    </tr>\n",
       "  </tbody>\n",
       "</table>\n",
       "</div>"
      ],
      "text/plain": [
       "   user_id first_name  last_name  age                                   city  \\\n",
       "0     1000   Anamaria      Bauer   45  Atlanta-Sandy Springs-Roswell, GA MSA   \n",
       "1     1001     Mickey  Wilkerson   28        Seattle-Tacoma-Bellevue, WA MSA   \n",
       "2     1002     Carlee    Hoffman   36   Las Vegas-Henderson-Paradise, NV MSA   \n",
       "3     1003   Reynaldo    Jenkins   52                          Tulsa, OK MSA   \n",
       "4     1004    Leonila   Thompson   40        Seattle-Tacoma-Bellevue, WA MSA   \n",
       "\n",
       "     reg_date      plan churn_date  \n",
       "0  2018-12-24  ultimate     Active  \n",
       "1  2018-08-13      surf     Active  \n",
       "2  2018-10-21      surf     Active  \n",
       "3  2018-01-28      surf     Active  \n",
       "4  2018-05-23      surf     Active  "
      ]
     },
     "execution_count": 7,
     "metadata": {},
     "output_type": "execute_result"
    }
   ],
   "source": [
    "users_df.info() # Print the general/summary information about the users' DataFrame\n",
    "users_df.describe()\n",
    "users_df.head()"
   ]
  },
  {
   "cell_type": "code",
   "execution_count": 8,
   "metadata": {},
   "outputs": [
    {
     "data": {
      "text/html": [
       "<div>\n",
       "<style scoped>\n",
       "    .dataframe tbody tr th:only-of-type {\n",
       "        vertical-align: middle;\n",
       "    }\n",
       "\n",
       "    .dataframe tbody tr th {\n",
       "        vertical-align: top;\n",
       "    }\n",
       "\n",
       "    .dataframe thead th {\n",
       "        text-align: right;\n",
       "    }\n",
       "</style>\n",
       "<table border=\"1\" class=\"dataframe\">\n",
       "  <thead>\n",
       "    <tr style=\"text-align: right;\">\n",
       "      <th></th>\n",
       "      <th>user_id</th>\n",
       "      <th>first_name</th>\n",
       "      <th>last_name</th>\n",
       "      <th>age</th>\n",
       "      <th>city</th>\n",
       "      <th>reg_date</th>\n",
       "      <th>plan</th>\n",
       "      <th>churn_date</th>\n",
       "    </tr>\n",
       "  </thead>\n",
       "  <tbody>\n",
       "    <tr>\n",
       "      <th>487</th>\n",
       "      <td>1487</td>\n",
       "      <td>Elton</td>\n",
       "      <td>Simpson</td>\n",
       "      <td>18</td>\n",
       "      <td>Cape Coral-Fort Myers, FL MSA</td>\n",
       "      <td>2018-08-16</td>\n",
       "      <td>ultimate</td>\n",
       "      <td>Active</td>\n",
       "    </tr>\n",
       "    <tr>\n",
       "      <th>230</th>\n",
       "      <td>1230</td>\n",
       "      <td>Andre</td>\n",
       "      <td>Estes</td>\n",
       "      <td>38</td>\n",
       "      <td>New York-Newark-Jersey City, NY-NJ-PA MSA</td>\n",
       "      <td>2018-02-27</td>\n",
       "      <td>ultimate</td>\n",
       "      <td>Active</td>\n",
       "    </tr>\n",
       "    <tr>\n",
       "      <th>447</th>\n",
       "      <td>1447</td>\n",
       "      <td>Ramon</td>\n",
       "      <td>Hester</td>\n",
       "      <td>62</td>\n",
       "      <td>Orlando-Kissimmee-Sanford, FL MSA</td>\n",
       "      <td>2018-05-01</td>\n",
       "      <td>surf</td>\n",
       "      <td>Active</td>\n",
       "    </tr>\n",
       "    <tr>\n",
       "      <th>198</th>\n",
       "      <td>1198</td>\n",
       "      <td>Russ</td>\n",
       "      <td>Horne</td>\n",
       "      <td>69</td>\n",
       "      <td>New York-Newark-Jersey City, NY-NJ-PA MSA</td>\n",
       "      <td>2018-05-01</td>\n",
       "      <td>surf</td>\n",
       "      <td>Active</td>\n",
       "    </tr>\n",
       "    <tr>\n",
       "      <th>130</th>\n",
       "      <td>1130</td>\n",
       "      <td>Clarence</td>\n",
       "      <td>Cunningham</td>\n",
       "      <td>27</td>\n",
       "      <td>Philadelphia-Camden-Wilmington, PA-NJ-DE-MD MSA</td>\n",
       "      <td>2018-05-17</td>\n",
       "      <td>surf</td>\n",
       "      <td>Active</td>\n",
       "    </tr>\n",
       "  </tbody>\n",
       "</table>\n",
       "</div>"
      ],
      "text/plain": [
       "     user_id first_name   last_name  age  \\\n",
       "487     1487      Elton     Simpson   18   \n",
       "230     1230      Andre       Estes   38   \n",
       "447     1447      Ramon      Hester   62   \n",
       "198     1198       Russ       Horne   69   \n",
       "130     1130   Clarence  Cunningham   27   \n",
       "\n",
       "                                                city    reg_date      plan  \\\n",
       "487                    Cape Coral-Fort Myers, FL MSA  2018-08-16  ultimate   \n",
       "230        New York-Newark-Jersey City, NY-NJ-PA MSA  2018-02-27  ultimate   \n",
       "447                Orlando-Kissimmee-Sanford, FL MSA  2018-05-01      surf   \n",
       "198        New York-Newark-Jersey City, NY-NJ-PA MSA  2018-05-01      surf   \n",
       "130  Philadelphia-Camden-Wilmington, PA-NJ-DE-MD MSA  2018-05-17      surf   \n",
       "\n",
       "    churn_date  \n",
       "487     Active  \n",
       "230     Active  \n",
       "447     Active  \n",
       "198     Active  \n",
       "130     Active  "
      ]
     },
     "execution_count": 8,
     "metadata": {},
     "output_type": "execute_result"
    }
   ],
   "source": [
    "# Print a sample of data for users\n",
    "users_df.head(10)\n",
    "users_df.tail()\n",
    "users_df.sample(5)"
   ]
  },
  {
   "cell_type": "markdown",
   "metadata": {},
   "source": [
    "[Describe what you see and notice in the general information and the printed data sample for the above price of data. Are there any issues (inappropriate data types, missing data etc) that may need further investigation and changes? How that can be fixed?]"
   ]
  },
  {
   "cell_type": "markdown",
   "metadata": {},
   "source": [
    " "
   ]
  },
  {
   "cell_type": "markdown",
   "metadata": {},
   "source": [
    "### Fix Data"
   ]
  },
  {
   "cell_type": "markdown",
   "metadata": {},
   "source": [
    "[Fix obvious issues with the data given the initial observations.]"
   ]
  },
  {
   "cell_type": "code",
   "execution_count": 9,
   "metadata": {},
   "outputs": [],
   "source": [
    "users_df['reg_date'] = pd.to_datetime(users_df['reg_date'], errors = 'coerce')\n",
    "users_df['churn_date'] = pd.to_datetime(users_df['churn_date'], errors = 'coerce') #converted reg_date and churn_date to datetime format\n",
    "\n",
    "users_df['age'] = pd.to_numeric(users_df['age'], errors = 'coerce') #converted age to numeric\n",
    "\n",
    "users_df['churn_date'].fillna('Active', inplace = True) #Handling missing values "
   ]
  },
  {
   "cell_type": "markdown",
   "metadata": {},
   "source": [
    "### Enrich Data"
   ]
  },
  {
   "cell_type": "markdown",
   "metadata": {},
   "source": [
    "[Add additional factors to the data if you believe they might be useful.]"
   ]
  },
  {
   "cell_type": "code",
   "execution_count": 10,
   "metadata": {
    "scrolled": true
   },
   "outputs": [],
   "source": [
    "#Average monthly usage call duration per user\n",
    "#monthly_calls = calls.groupby(['user_id', calls_df['call_date'].dt.month])['duration'].sum() \n",
    "#avg_monthly_calls = monthly_calls.groupby('user_id').mean()\n",
    "\n",
    "users_df.columns.tolist()\n",
    "plans_df.columns.tolist()\n",
    "\n",
    "users_df = users_df.merge(plans_df, left_on='plan', right_on='plan_name', how='left') \n",
    "\n",
    "# Aggregate\n",
    "call_usage = calls_df.groupby('user_id')['duration'].sum().rename('total_minutes')\n",
    "message_usage = messages_df.groupby('user_id').size().rename('total_messages')\n",
    "data_usage = internet_df.groupby('user_id')['gb_used'].sum().rename('total_gb')\n",
    "\n",
    "# Merge data\n",
    "users_df = users_df.merge(call_usage, on='user_id', how='left')\n",
    "users_df = users_df.merge(message_usage, on='user_id', how='left')\n",
    "users_df = users_df.merge(data_usage, on='user_id', how='left')\n",
    "\n",
    "# Filling for the missing values\n",
    "users_df[['total_minutes', 'total_messages', 'total_gb']] = users_df[['total_minutes', 'total_messages', 'total_gb']].fillna(0)\n",
    "\n",
    "users_df['overage_charges'] = (\n",
    "    users_df['total_minutes'] * users_df['usd_per_minute'] + \n",
    "    users_df['total_messages'] * users_df['usd_per_message'] + \n",
    "    users_df['total_gb'] * users_df['usd_per_gb']\n",
    "    \n",
    ")\n",
    "\n",
    "#Monthly revenue (base plan + over charges)\n",
    "users_df['monthly_revenue'] = users_df['usd_monthly_pay'] + users_df['overage_charges']\n",
    "\n",
    "#Customer Tenure in months\n",
    "users_df['reg_date'] = pd.to_datetime(users_df['reg_date'])\n",
    "users_df['tenure_months'] = ((pd.Timestamp('2018-12-31') - users_df['reg_date']) / pd.Timedelta(days=30)).astype(int)\n",
    "\n",
    "#Average usage per city\n",
    "city_usage = users_df.groupby('city')['total_gb'].mean()\n",
    "\n"
   ]
  },
  {
   "cell_type": "markdown",
   "metadata": {},
   "source": [
    "\n",
    "<div class=\"alert alert-danger\">\n",
    "    <b>Reviewer's comment – Iteration 1:</b><br>\n",
    "Please resolve all errors before submitting a project. KeyErrors in panda are usually related to using wrong column names.\n",
    "\n",
    "```python\n",
    "---------------------------------------------------------------------------\n",
    "KeyError                                  Traceback (most recent call last)\n",
    "File /.venv/lib/python3.9/site-packages/pandas/core/indexes/base.py:3080, in Index.get_loc(self, key, method, tolerance)\n",
    "   3079 try:\n",
    "-> 3080     return self._engine.get_loc(casted_key)\n",
    "   3081 except KeyError as err:\n",
    "\n",
    "...\n",
    "\n",
    "File pandas/_libs/hashtable_class_helper.pxi:4562, in pandas._libs.hashtable.PyObjectHashTable.get_item()\n",
    "\n",
    "KeyError: 'minutes_used'\n",
    "\n",
    "\n",
    "</div>"
   ]
  },
  {
   "cell_type": "markdown",
   "metadata": {},
   "source": [
    "<div class=\"alert alert-success\">\n",
    "    <b>Reviewer's comment – Iteration 2:</b><br>\n",
    "Fixed\n",
    "</div>"
   ]
  },
  {
   "cell_type": "markdown",
   "metadata": {},
   "source": [
    "## Calls"
   ]
  },
  {
   "cell_type": "code",
   "execution_count": 11,
   "metadata": {},
   "outputs": [
    {
     "name": "stdout",
     "output_type": "stream",
     "text": [
      "<class 'pandas.core.frame.DataFrame'>\n",
      "Int64Index: 137735 entries, 0 to 137734\n",
      "Data columns (total 7 columns):\n",
      " #   Column            Non-Null Count   Dtype         \n",
      "---  ------            --------------   -----         \n",
      " 0   id                137735 non-null  object        \n",
      " 1   user_id           137735 non-null  int64         \n",
      " 2   call_date         137735 non-null  datetime64[ns]\n",
      " 3   duration          137735 non-null  float64       \n",
      " 4   duration_minutes  137735 non-null  float64       \n",
      " 5   day_of_the_week   137735 non-null  object        \n",
      " 6   hour              137735 non-null  int64         \n",
      "dtypes: datetime64[ns](1), float64(2), int64(2), object(2)\n",
      "memory usage: 8.4+ MB\n"
     ]
    },
    {
     "data": {
      "text/html": [
       "<div>\n",
       "<style scoped>\n",
       "    .dataframe tbody tr th:only-of-type {\n",
       "        vertical-align: middle;\n",
       "    }\n",
       "\n",
       "    .dataframe tbody tr th {\n",
       "        vertical-align: top;\n",
       "    }\n",
       "\n",
       "    .dataframe thead th {\n",
       "        text-align: right;\n",
       "    }\n",
       "</style>\n",
       "<table border=\"1\" class=\"dataframe\">\n",
       "  <thead>\n",
       "    <tr style=\"text-align: right;\">\n",
       "      <th></th>\n",
       "      <th>id</th>\n",
       "      <th>user_id</th>\n",
       "      <th>call_date</th>\n",
       "      <th>duration</th>\n",
       "      <th>duration_minutes</th>\n",
       "      <th>day_of_the_week</th>\n",
       "      <th>hour</th>\n",
       "    </tr>\n",
       "  </thead>\n",
       "  <tbody>\n",
       "    <tr>\n",
       "      <th>0</th>\n",
       "      <td>1000_93</td>\n",
       "      <td>1000</td>\n",
       "      <td>2018-12-27</td>\n",
       "      <td>8.52</td>\n",
       "      <td>1.0</td>\n",
       "      <td>Thursday</td>\n",
       "      <td>0</td>\n",
       "    </tr>\n",
       "    <tr>\n",
       "      <th>1</th>\n",
       "      <td>1000_145</td>\n",
       "      <td>1000</td>\n",
       "      <td>2018-12-27</td>\n",
       "      <td>13.66</td>\n",
       "      <td>1.0</td>\n",
       "      <td>Thursday</td>\n",
       "      <td>0</td>\n",
       "    </tr>\n",
       "    <tr>\n",
       "      <th>2</th>\n",
       "      <td>1000_247</td>\n",
       "      <td>1000</td>\n",
       "      <td>2018-12-27</td>\n",
       "      <td>14.48</td>\n",
       "      <td>1.0</td>\n",
       "      <td>Thursday</td>\n",
       "      <td>0</td>\n",
       "    </tr>\n",
       "    <tr>\n",
       "      <th>3</th>\n",
       "      <td>1000_309</td>\n",
       "      <td>1000</td>\n",
       "      <td>2018-12-28</td>\n",
       "      <td>5.76</td>\n",
       "      <td>1.0</td>\n",
       "      <td>Friday</td>\n",
       "      <td>0</td>\n",
       "    </tr>\n",
       "    <tr>\n",
       "      <th>4</th>\n",
       "      <td>1000_380</td>\n",
       "      <td>1000</td>\n",
       "      <td>2018-12-30</td>\n",
       "      <td>4.22</td>\n",
       "      <td>1.0</td>\n",
       "      <td>Sunday</td>\n",
       "      <td>0</td>\n",
       "    </tr>\n",
       "  </tbody>\n",
       "</table>\n",
       "</div>"
      ],
      "text/plain": [
       "         id  user_id  call_date  duration  duration_minutes day_of_the_week  \\\n",
       "0   1000_93     1000 2018-12-27      8.52               1.0        Thursday   \n",
       "1  1000_145     1000 2018-12-27     13.66               1.0        Thursday   \n",
       "2  1000_247     1000 2018-12-27     14.48               1.0        Thursday   \n",
       "3  1000_309     1000 2018-12-28      5.76               1.0          Friday   \n",
       "4  1000_380     1000 2018-12-30      4.22               1.0          Sunday   \n",
       "\n",
       "   hour  \n",
       "0     0  \n",
       "1     0  \n",
       "2     0  \n",
       "3     0  \n",
       "4     0  "
      ]
     },
     "execution_count": 11,
     "metadata": {},
     "output_type": "execute_result"
    }
   ],
   "source": [
    "# Print the general/summary information about the calls' DataFrame\n",
    "calls_df.info()\n",
    "calls_df.describe()\n",
    "calls_df.head()"
   ]
  },
  {
   "cell_type": "code",
   "execution_count": 12,
   "metadata": {},
   "outputs": [
    {
     "data": {
      "text/html": [
       "<div>\n",
       "<style scoped>\n",
       "    .dataframe tbody tr th:only-of-type {\n",
       "        vertical-align: middle;\n",
       "    }\n",
       "\n",
       "    .dataframe tbody tr th {\n",
       "        vertical-align: top;\n",
       "    }\n",
       "\n",
       "    .dataframe thead th {\n",
       "        text-align: right;\n",
       "    }\n",
       "</style>\n",
       "<table border=\"1\" class=\"dataframe\">\n",
       "  <thead>\n",
       "    <tr style=\"text-align: right;\">\n",
       "      <th></th>\n",
       "      <th>id</th>\n",
       "      <th>user_id</th>\n",
       "      <th>call_date</th>\n",
       "      <th>duration</th>\n",
       "      <th>duration_minutes</th>\n",
       "      <th>day_of_the_week</th>\n",
       "      <th>hour</th>\n",
       "    </tr>\n",
       "  </thead>\n",
       "  <tbody>\n",
       "    <tr>\n",
       "      <th>124719</th>\n",
       "      <td>1440_235</td>\n",
       "      <td>1440</td>\n",
       "      <td>2018-08-29</td>\n",
       "      <td>15.30</td>\n",
       "      <td>1.0</td>\n",
       "      <td>Wednesday</td>\n",
       "      <td>0</td>\n",
       "    </tr>\n",
       "    <tr>\n",
       "      <th>124813</th>\n",
       "      <td>1440_329</td>\n",
       "      <td>1440</td>\n",
       "      <td>2018-07-14</td>\n",
       "      <td>7.27</td>\n",
       "      <td>1.0</td>\n",
       "      <td>Saturday</td>\n",
       "      <td>0</td>\n",
       "    </tr>\n",
       "    <tr>\n",
       "      <th>128763</th>\n",
       "      <td>1464_115</td>\n",
       "      <td>1464</td>\n",
       "      <td>2018-12-13</td>\n",
       "      <td>3.60</td>\n",
       "      <td>1.0</td>\n",
       "      <td>Thursday</td>\n",
       "      <td>0</td>\n",
       "    </tr>\n",
       "    <tr>\n",
       "      <th>112476</th>\n",
       "      <td>1397_20</td>\n",
       "      <td>1397</td>\n",
       "      <td>2018-07-06</td>\n",
       "      <td>4.61</td>\n",
       "      <td>1.0</td>\n",
       "      <td>Friday</td>\n",
       "      <td>0</td>\n",
       "    </tr>\n",
       "    <tr>\n",
       "      <th>43675</th>\n",
       "      <td>1159_271</td>\n",
       "      <td>1159</td>\n",
       "      <td>2018-10-06</td>\n",
       "      <td>0.00</td>\n",
       "      <td>0.0</td>\n",
       "      <td>Saturday</td>\n",
       "      <td>0</td>\n",
       "    </tr>\n",
       "  </tbody>\n",
       "</table>\n",
       "</div>"
      ],
      "text/plain": [
       "              id  user_id  call_date  duration  duration_minutes  \\\n",
       "124719  1440_235     1440 2018-08-29     15.30               1.0   \n",
       "124813  1440_329     1440 2018-07-14      7.27               1.0   \n",
       "128763  1464_115     1464 2018-12-13      3.60               1.0   \n",
       "112476   1397_20     1397 2018-07-06      4.61               1.0   \n",
       "43675   1159_271     1159 2018-10-06      0.00               0.0   \n",
       "\n",
       "       day_of_the_week  hour  \n",
       "124719       Wednesday     0  \n",
       "124813        Saturday     0  \n",
       "128763        Thursday     0  \n",
       "112476          Friday     0  \n",
       "43675         Saturday     0  "
      ]
     },
     "execution_count": 12,
     "metadata": {},
     "output_type": "execute_result"
    }
   ],
   "source": [
    "# Print a sample of data for calls\n",
    "calls_df.head(10)\n",
    "calls_df.tail()\n",
    "calls_df.sample(5)\n"
   ]
  },
  {
   "cell_type": "markdown",
   "metadata": {},
   "source": [
    "[Describe what you see and notice in the general information and the printed data sample for the above price of data. Are there any issues (inappropriate data types, missing data etc) that may need further investigation and changes? How that can be fixed?]"
   ]
  },
  {
   "cell_type": "markdown",
   "metadata": {},
   "source": [
    " "
   ]
  },
  {
   "cell_type": "markdown",
   "metadata": {},
   "source": [
    "### Fix data"
   ]
  },
  {
   "cell_type": "markdown",
   "metadata": {},
   "source": [
    "[Fix obvious issues with the data given the initial observations.]"
   ]
  },
  {
   "cell_type": "code",
   "execution_count": 13,
   "metadata": {},
   "outputs": [],
   "source": [
    "# Convert date columns to datetime\n",
    "calls_df['call_date'] = pd.to_datetime(calls_df['call_date']) \n",
    "\n",
    "# Duration/usage = numeric \n",
    "calls_df['duration_rounded'] = np.ceil(calls_df['duration'])\n",
    "\n",
    "#Registration daye -> datetime\n",
    "users_df['reg_date'] = pd.to_datetime(users_df['reg_date'])\n",
    "\n",
    "#Missing values\n",
    "#users_df['churn_date'] = pd.to_datetime(users_df['churn_date']) <- Attempt 1\n",
    "users_df['churn_date'] = pd.to_datetime(users_df['churn_date'], errors='coerce')\n",
    "\n",
    "#Age = numeric\n",
    "users_df['age'] = pd.to_numeric(users_df['age'])\n",
    "\n",
    "#Checking for negative values\n",
    "calls_df = calls_df[calls_df['duration'] > 0]\n",
    "\n",
    "#Checking for date ranges\n",
    "calls_df = calls_df[calls_df['call_date'].dt.year == 2018]\n",
    "\n",
    "\n"
   ]
  },
  {
   "cell_type": "markdown",
   "metadata": {},
   "source": [
    "<div class=\"alert alert-danger\">\n",
    "    <b>Reviewer's comment – Iteration 2:</b><br>\n",
    "\n",
    "The call durations should be rounded up to the next minute. For example, a call lasting 1.10 minutes should be counted as 2 minutes. You can use `np.ceil()`, for example, to do this.\n",
    "</div>"
   ]
  },
  {
   "cell_type": "markdown",
   "metadata": {},
   "source": [
    "<div class=\"alert alert-success\">\n",
    "    <b>Reviewer's comment – Iteration 3:</b><br>\n",
    "Well done\n",
    "</div>"
   ]
  },
  {
   "cell_type": "markdown",
   "metadata": {},
   "source": [
    "### Enrich data"
   ]
  },
  {
   "cell_type": "markdown",
   "metadata": {},
   "source": [
    "[Add additional factors to the data if you believe they might be useful.]"
   ]
  },
  {
   "cell_type": "code",
   "execution_count": 14,
   "metadata": {},
   "outputs": [],
   "source": [
    "#Monthly calls in minutes per user\n",
    "monthly_calls = calls_df.groupby(['user_id', calls_df['call_date'].dt.to_period('M')])['duration'].sum()\n",
    "\n",
    "monthly_minutes = monthly_calls / 60 \n",
    "\n",
    "# Convert column\n",
    "messages_df['message_date'] = pd.to_datetime(messages_df['message_date'])\n",
    "\n",
    "#Monthly texts per user\n",
    "monthly_messages = messages_df.groupby(['user_id', messages_df['message_date'].dt.to_period('M')]).size()\n",
    "\n",
    "#Df for monthly data\n",
    "monthly_df = monthly_minutes.reset_index()\n",
    "monthly_df.columns = ['user_id', 'month', 'minutes_used']\n",
    "\n",
    "monthly_df = monthly_df.merge(users_df[['user_id', 'plan']], on='user_id')\n",
    "monthly_df = monthly_df.merge(plans_df[['plan_name', 'minutes_included']], left_on='plan', right_on='plan_name')\n",
    "\n",
    "monthly_df['overage_minutes'] = np.maximum(0,monthly_df['minutes_used'] - monthly_df['minutes_included'])\n",
    "\n",
    "monthly_df = monthly_df.merge(plans_df, on='plan_name', how='left')\n",
    "\n",
    "monthly_df['overage_call_charges'] = monthly_df['overage_minutes'] * monthly_df['usd_per_minute']\n",
    "\n",
    "# Plan minutes included and plan usd per minute \n",
    "plans_df = users_df[['user_id', 'plan_name']].merge(plans_df, on='plan_name')\n",
    "plan_minutes_included = plans_df['minutes_included']\n",
    "plan_usd_per_minute = plans_df['usd_per_minute']\n",
    "\n",
    "\n",
    "\n"
   ]
  },
  {
   "cell_type": "markdown",
   "metadata": {},
   "source": [
    "## Messages"
   ]
  },
  {
   "cell_type": "code",
   "execution_count": 15,
   "metadata": {},
   "outputs": [
    {
     "name": "stdout",
     "output_type": "stream",
     "text": [
      "<class 'pandas.core.frame.DataFrame'>\n",
      "RangeIndex: 76051 entries, 0 to 76050\n",
      "Data columns (total 3 columns):\n",
      " #   Column        Non-Null Count  Dtype         \n",
      "---  ------        --------------  -----         \n",
      " 0   id            76051 non-null  object        \n",
      " 1   user_id       76051 non-null  int64         \n",
      " 2   message_date  76051 non-null  datetime64[ns]\n",
      "dtypes: datetime64[ns](1), int64(1), object(1)\n",
      "memory usage: 1.7+ MB\n"
     ]
    },
    {
     "data": {
      "text/html": [
       "<div>\n",
       "<style scoped>\n",
       "    .dataframe tbody tr th:only-of-type {\n",
       "        vertical-align: middle;\n",
       "    }\n",
       "\n",
       "    .dataframe tbody tr th {\n",
       "        vertical-align: top;\n",
       "    }\n",
       "\n",
       "    .dataframe thead th {\n",
       "        text-align: right;\n",
       "    }\n",
       "</style>\n",
       "<table border=\"1\" class=\"dataframe\">\n",
       "  <thead>\n",
       "    <tr style=\"text-align: right;\">\n",
       "      <th></th>\n",
       "      <th>id</th>\n",
       "      <th>user_id</th>\n",
       "      <th>message_date</th>\n",
       "    </tr>\n",
       "  </thead>\n",
       "  <tbody>\n",
       "    <tr>\n",
       "      <th>0</th>\n",
       "      <td>1000_125</td>\n",
       "      <td>1000</td>\n",
       "      <td>2018-12-27</td>\n",
       "    </tr>\n",
       "    <tr>\n",
       "      <th>1</th>\n",
       "      <td>1000_160</td>\n",
       "      <td>1000</td>\n",
       "      <td>2018-12-31</td>\n",
       "    </tr>\n",
       "    <tr>\n",
       "      <th>2</th>\n",
       "      <td>1000_223</td>\n",
       "      <td>1000</td>\n",
       "      <td>2018-12-31</td>\n",
       "    </tr>\n",
       "    <tr>\n",
       "      <th>3</th>\n",
       "      <td>1000_251</td>\n",
       "      <td>1000</td>\n",
       "      <td>2018-12-27</td>\n",
       "    </tr>\n",
       "    <tr>\n",
       "      <th>4</th>\n",
       "      <td>1000_255</td>\n",
       "      <td>1000</td>\n",
       "      <td>2018-12-26</td>\n",
       "    </tr>\n",
       "  </tbody>\n",
       "</table>\n",
       "</div>"
      ],
      "text/plain": [
       "         id  user_id message_date\n",
       "0  1000_125     1000   2018-12-27\n",
       "1  1000_160     1000   2018-12-31\n",
       "2  1000_223     1000   2018-12-31\n",
       "3  1000_251     1000   2018-12-27\n",
       "4  1000_255     1000   2018-12-26"
      ]
     },
     "execution_count": 15,
     "metadata": {},
     "output_type": "execute_result"
    }
   ],
   "source": [
    "# Print the general/summary information about the messages' DataFrame\n",
    "messages_df.info()\n",
    "messages_df.describe()\n",
    "messages_df.head()\n"
   ]
  },
  {
   "cell_type": "code",
   "execution_count": 16,
   "metadata": {},
   "outputs": [
    {
     "data": {
      "text/html": [
       "<div>\n",
       "<style scoped>\n",
       "    .dataframe tbody tr th:only-of-type {\n",
       "        vertical-align: middle;\n",
       "    }\n",
       "\n",
       "    .dataframe tbody tr th {\n",
       "        vertical-align: top;\n",
       "    }\n",
       "\n",
       "    .dataframe thead th {\n",
       "        text-align: right;\n",
       "    }\n",
       "</style>\n",
       "<table border=\"1\" class=\"dataframe\">\n",
       "  <thead>\n",
       "    <tr style=\"text-align: right;\">\n",
       "      <th></th>\n",
       "      <th>id</th>\n",
       "      <th>user_id</th>\n",
       "      <th>message_date</th>\n",
       "    </tr>\n",
       "  </thead>\n",
       "  <tbody>\n",
       "    <tr>\n",
       "      <th>60078</th>\n",
       "      <td>1381_191</td>\n",
       "      <td>1381</td>\n",
       "      <td>2018-10-10</td>\n",
       "    </tr>\n",
       "    <tr>\n",
       "      <th>46682</th>\n",
       "      <td>1318_55</td>\n",
       "      <td>1318</td>\n",
       "      <td>2018-10-14</td>\n",
       "    </tr>\n",
       "    <tr>\n",
       "      <th>35055</th>\n",
       "      <td>1223_155</td>\n",
       "      <td>1223</td>\n",
       "      <td>2018-09-29</td>\n",
       "    </tr>\n",
       "    <tr>\n",
       "      <th>54166</th>\n",
       "      <td>1343_251</td>\n",
       "      <td>1343</td>\n",
       "      <td>2018-11-19</td>\n",
       "    </tr>\n",
       "    <tr>\n",
       "      <th>46038</th>\n",
       "      <td>1313_234</td>\n",
       "      <td>1313</td>\n",
       "      <td>2018-06-28</td>\n",
       "    </tr>\n",
       "  </tbody>\n",
       "</table>\n",
       "</div>"
      ],
      "text/plain": [
       "             id  user_id message_date\n",
       "60078  1381_191     1381   2018-10-10\n",
       "46682   1318_55     1318   2018-10-14\n",
       "35055  1223_155     1223   2018-09-29\n",
       "54166  1343_251     1343   2018-11-19\n",
       "46038  1313_234     1313   2018-06-28"
      ]
     },
     "execution_count": 16,
     "metadata": {},
     "output_type": "execute_result"
    }
   ],
   "source": [
    "# Print a sample of data for messages\n",
    "messages_df.head(10)\n",
    "messages_df.tail()\n",
    "messages_df.sample(5)\n",
    "\n"
   ]
  },
  {
   "cell_type": "markdown",
   "metadata": {},
   "source": [
    "[Describe what you see and notice in the general information and the printed data sample for the above price of data. Are there any issues (inappropriate data types, missing data etc) that may need further investigation and changes? How that can be fixed?]"
   ]
  },
  {
   "cell_type": "markdown",
   "metadata": {},
   "source": [
    " "
   ]
  },
  {
   "cell_type": "markdown",
   "metadata": {},
   "source": [
    "### Fix data"
   ]
  },
  {
   "cell_type": "markdown",
   "metadata": {},
   "source": [
    "[Fix obvious issues with the data given the initial observations.]"
   ]
  },
  {
   "cell_type": "code",
   "execution_count": 17,
   "metadata": {},
   "outputs": [],
   "source": [
    "#Converting date columns to datetime\n",
    "calls_df['call_date'] = pd.to_datetime(calls_df['call_date'])\n",
    "messages_df['message_date'] = pd.to_datetime(messages_df['message_date'])\n",
    "internet_df['session_date'] = pd.to_datetime(internet_df['session_date'])\n",
    "\n",
    "#Converting Registration and churn dates\n",
    "users_df['reg_date'] = pd.to_datetime(users_df['reg_date'])\n",
    "users_df['churn_date'] = pd.to_datetime(users_df['churn_date'])\n",
    "\n",
    "#age = numeric\n",
    "users_df['age'] = pd.to_numeric(users_df['age'])"
   ]
  },
  {
   "cell_type": "markdown",
   "metadata": {},
   "source": [
    "### Enrich data"
   ]
  },
  {
   "cell_type": "markdown",
   "metadata": {},
   "source": [
    "[Add additional factors to the data if you believe they might be useful.]"
   ]
  },
  {
   "cell_type": "code",
   "execution_count": 18,
   "metadata": {},
   "outputs": [
    {
     "name": "stdout",
     "output_type": "stream",
     "text": [
      "Original users columns: ['user_id', 'first_name', 'last_name', 'age', 'city', 'reg_date', 'plan', 'churn_date']\n",
      "Original plans columns: ['messages_included', 'mb_per_month_included', 'minutes_included', 'usd_monthly_pay', 'usd_per_gb', 'usd_per_message', 'usd_per_minute', 'plan_name']\n"
     ]
    }
   ],
   "source": [
    "\n",
    "# Start completely fresh\n",
    "users_clean = pd.read_csv('/datasets/megaline_users.csv')\n",
    "plans_clean = pd.read_csv('/datasets/megaline_plans.csv')\n",
    "\n",
    "# Check the original column names\n",
    "print(\"Original users columns:\", users_clean.columns.tolist())\n",
    "print(\"Original plans columns:\", plans_clean.columns.tolist())\n",
    "\n",
    "# Now do a clean merge\n",
    "monthly_minutes_clean = monthly_minutes.reset_index()\n",
    "monthly_minutes_clean.columns = ['user_id', 'month', 'minutes_used']\n",
    "\n",
    "# Merge with clean data\n",
    "result = monthly_minutes_clean.merge(\n",
    "    users_clean[['user_id', 'plan']], \n",
    "    on='user_id'\n",
    ").merge(\n",
    "    plans_clean, \n",
    "    left_on='plan', \n",
    "    right_on='plan_name'\n",
    ")"
   ]
  },
  {
   "cell_type": "markdown",
   "metadata": {},
   "source": [
    "## Internet"
   ]
  },
  {
   "cell_type": "code",
   "execution_count": 19,
   "metadata": {},
   "outputs": [
    {
     "name": "stdout",
     "output_type": "stream",
     "text": [
      "<class 'pandas.core.frame.DataFrame'>\n",
      "RangeIndex: 104825 entries, 0 to 104824\n",
      "Data columns (total 5 columns):\n",
      " #   Column        Non-Null Count   Dtype         \n",
      "---  ------        --------------   -----         \n",
      " 0   id            104825 non-null  object        \n",
      " 1   user_id       104825 non-null  int64         \n",
      " 2   session_date  104825 non-null  datetime64[ns]\n",
      " 3   mb_used       104825 non-null  float64       \n",
      " 4   gb_used       104825 non-null  float64       \n",
      "dtypes: datetime64[ns](1), float64(2), int64(1), object(1)\n",
      "memory usage: 4.0+ MB\n"
     ]
    },
    {
     "data": {
      "text/html": [
       "<div>\n",
       "<style scoped>\n",
       "    .dataframe tbody tr th:only-of-type {\n",
       "        vertical-align: middle;\n",
       "    }\n",
       "\n",
       "    .dataframe tbody tr th {\n",
       "        vertical-align: top;\n",
       "    }\n",
       "\n",
       "    .dataframe thead th {\n",
       "        text-align: right;\n",
       "    }\n",
       "</style>\n",
       "<table border=\"1\" class=\"dataframe\">\n",
       "  <thead>\n",
       "    <tr style=\"text-align: right;\">\n",
       "      <th></th>\n",
       "      <th>id</th>\n",
       "      <th>user_id</th>\n",
       "      <th>session_date</th>\n",
       "      <th>mb_used</th>\n",
       "      <th>gb_used</th>\n",
       "    </tr>\n",
       "  </thead>\n",
       "  <tbody>\n",
       "    <tr>\n",
       "      <th>0</th>\n",
       "      <td>1000_13</td>\n",
       "      <td>1000</td>\n",
       "      <td>2018-12-29</td>\n",
       "      <td>89.86</td>\n",
       "      <td>1.0</td>\n",
       "    </tr>\n",
       "    <tr>\n",
       "      <th>1</th>\n",
       "      <td>1000_204</td>\n",
       "      <td>1000</td>\n",
       "      <td>2018-12-31</td>\n",
       "      <td>0.00</td>\n",
       "      <td>0.0</td>\n",
       "    </tr>\n",
       "    <tr>\n",
       "      <th>2</th>\n",
       "      <td>1000_379</td>\n",
       "      <td>1000</td>\n",
       "      <td>2018-12-28</td>\n",
       "      <td>660.40</td>\n",
       "      <td>1.0</td>\n",
       "    </tr>\n",
       "    <tr>\n",
       "      <th>3</th>\n",
       "      <td>1000_413</td>\n",
       "      <td>1000</td>\n",
       "      <td>2018-12-26</td>\n",
       "      <td>270.99</td>\n",
       "      <td>1.0</td>\n",
       "    </tr>\n",
       "    <tr>\n",
       "      <th>4</th>\n",
       "      <td>1000_442</td>\n",
       "      <td>1000</td>\n",
       "      <td>2018-12-27</td>\n",
       "      <td>880.22</td>\n",
       "      <td>1.0</td>\n",
       "    </tr>\n",
       "  </tbody>\n",
       "</table>\n",
       "</div>"
      ],
      "text/plain": [
       "         id  user_id session_date  mb_used  gb_used\n",
       "0   1000_13     1000   2018-12-29    89.86      1.0\n",
       "1  1000_204     1000   2018-12-31     0.00      0.0\n",
       "2  1000_379     1000   2018-12-28   660.40      1.0\n",
       "3  1000_413     1000   2018-12-26   270.99      1.0\n",
       "4  1000_442     1000   2018-12-27   880.22      1.0"
      ]
     },
     "execution_count": 19,
     "metadata": {},
     "output_type": "execute_result"
    }
   ],
   "source": [
    "# Print the general/summary information about the internet DataFrame\n",
    "internet_df.info()\n",
    "internet_df.describe()\n",
    "internet_df.head()\n"
   ]
  },
  {
   "cell_type": "code",
   "execution_count": 20,
   "metadata": {},
   "outputs": [
    {
     "data": {
      "text/html": [
       "<div>\n",
       "<style scoped>\n",
       "    .dataframe tbody tr th:only-of-type {\n",
       "        vertical-align: middle;\n",
       "    }\n",
       "\n",
       "    .dataframe tbody tr th {\n",
       "        vertical-align: top;\n",
       "    }\n",
       "\n",
       "    .dataframe thead th {\n",
       "        text-align: right;\n",
       "    }\n",
       "</style>\n",
       "<table border=\"1\" class=\"dataframe\">\n",
       "  <thead>\n",
       "    <tr style=\"text-align: right;\">\n",
       "      <th></th>\n",
       "      <th>id</th>\n",
       "      <th>user_id</th>\n",
       "      <th>session_date</th>\n",
       "      <th>mb_used</th>\n",
       "      <th>gb_used</th>\n",
       "    </tr>\n",
       "  </thead>\n",
       "  <tbody>\n",
       "    <tr>\n",
       "      <th>3664</th>\n",
       "      <td>1022_75</td>\n",
       "      <td>1022</td>\n",
       "      <td>2018-11-21</td>\n",
       "      <td>405.56</td>\n",
       "      <td>1.0</td>\n",
       "    </tr>\n",
       "    <tr>\n",
       "      <th>66096</th>\n",
       "      <td>1305_309</td>\n",
       "      <td>1305</td>\n",
       "      <td>2018-10-05</td>\n",
       "      <td>151.28</td>\n",
       "      <td>1.0</td>\n",
       "    </tr>\n",
       "    <tr>\n",
       "      <th>103651</th>\n",
       "      <td>1495_287</td>\n",
       "      <td>1495</td>\n",
       "      <td>2018-09-11</td>\n",
       "      <td>553.19</td>\n",
       "      <td>1.0</td>\n",
       "    </tr>\n",
       "    <tr>\n",
       "      <th>67753</th>\n",
       "      <td>1314_91</td>\n",
       "      <td>1314</td>\n",
       "      <td>2018-11-11</td>\n",
       "      <td>340.00</td>\n",
       "      <td>1.0</td>\n",
       "    </tr>\n",
       "    <tr>\n",
       "      <th>95754</th>\n",
       "      <td>1446_318</td>\n",
       "      <td>1446</td>\n",
       "      <td>2018-10-20</td>\n",
       "      <td>337.97</td>\n",
       "      <td>1.0</td>\n",
       "    </tr>\n",
       "  </tbody>\n",
       "</table>\n",
       "</div>"
      ],
      "text/plain": [
       "              id  user_id session_date  mb_used  gb_used\n",
       "3664     1022_75     1022   2018-11-21   405.56      1.0\n",
       "66096   1305_309     1305   2018-10-05   151.28      1.0\n",
       "103651  1495_287     1495   2018-09-11   553.19      1.0\n",
       "67753    1314_91     1314   2018-11-11   340.00      1.0\n",
       "95754   1446_318     1446   2018-10-20   337.97      1.0"
      ]
     },
     "execution_count": 20,
     "metadata": {},
     "output_type": "execute_result"
    }
   ],
   "source": [
    "# Print a sample of data for the internet traffic\n",
    "internet_df.head(10)\n",
    "internet_df.tail()\n",
    "internet_df.sample(5)\n"
   ]
  },
  {
   "cell_type": "markdown",
   "metadata": {},
   "source": [
    "[Describe what you see and notice in the general information and the printed data sample for the above price of data. Are there any issues (inappropriate data types, missing data etc) that may need further investigation and changes? How that can be fixed?]"
   ]
  },
  {
   "cell_type": "markdown",
   "metadata": {},
   "source": [
    " "
   ]
  },
  {
   "cell_type": "markdown",
   "metadata": {},
   "source": [
    "### Fix data"
   ]
  },
  {
   "cell_type": "markdown",
   "metadata": {},
   "source": [
    "[Fix obvious issues with the data given the initial observations.]"
   ]
  },
  {
   "cell_type": "code",
   "execution_count": 21,
   "metadata": {},
   "outputs": [],
   "source": [
    "# Checking if numeric columns are good\n",
    "calls_df['duration'] = pd.to_numeric(calls_df['duration'])\n",
    "internet_df['mb_used'] = pd.to_numeric(internet_df['mb_used'])\n",
    "\n",
    "# Converting registration and churn dates\n",
    "users_df['reg_date'] = pd.to_datetime(users_df['reg_date'])\n",
    "users_df['churn_date'] = pd.to_datetime(users_df['churn_date'])\n",
    "\n",
    "# Check if age is numeric\n",
    "users_df['age'] = pd.to_numeric(users_df['age'])\n",
    "\n",
    "# 2018 data\n",
    "calls_df = calls_df[calls_df['call_date'].dt.year == 2018]\n",
    "messages_df = messages_df[messages_df['message_date'].dt.year == 2018]\n",
    "internet_df = internet_df[internet_df['session_date'].dt.year == 2018]"
   ]
  },
  {
   "cell_type": "markdown",
   "metadata": {},
   "source": [
    "### Enrich data"
   ]
  },
  {
   "cell_type": "markdown",
   "metadata": {},
   "source": [
    "[Add additional factors to the data if you believe they might be useful.]"
   ]
  },
  {
   "cell_type": "code",
   "execution_count": 22,
   "metadata": {},
   "outputs": [],
   "source": [
    "# Start fresh with a clean merge\n",
    "monthly_minutes_clean = monthly_minutes.reset_index()\n",
    "monthly_minutes_clean.columns = ['user_id', 'month', 'minutes_used']\n",
    "\n",
    "# Merge with plans data cleanly\n",
    "monthly_minutes_clean = monthly_minutes_clean.merge(\n",
    "    users_df[['user_id', 'plan']], \n",
    "    on='user_id'\n",
    ").merge(\n",
    "    plans_df[['plan_name', 'minutes_included', 'usd_per_minute']], \n",
    "    left_on='plan', \n",
    "    right_on='plan_name'\n",
    ")\n",
    "\n",
    "# Now calculate overage\n",
    "monthly_minutes_clean['overage_minutes'] = np.maximum(\n",
    "    0, \n",
    "    monthly_minutes_clean['minutes_used'] - monthly_minutes_clean['minutes_included']\n",
    ")\n",
    "\n",
    "# Calculate charges\n",
    "monthly_minutes_clean['overage_call_charges'] = (\n",
    "    monthly_minutes_clean['overage_minutes'] * monthly_minutes_clean['usd_per_minute']\n",
    ")"
   ]
  },
  {
   "cell_type": "markdown",
   "metadata": {},
   "source": [
    "## Study plan conditions"
   ]
  },
  {
   "cell_type": "markdown",
   "metadata": {},
   "source": [
    "[It is critical to understand how the plans work, how users are charged based on their plan subscription. So, we suggest printing out the plan information to view their conditions once again.]"
   ]
  },
  {
   "cell_type": "code",
   "execution_count": 23,
   "metadata": {},
   "outputs": [
    {
     "name": "stdout",
     "output_type": "stream",
     "text": [
      "Available plan names:\n",
      "['ultimate' 'surf']\n"
     ]
    }
   ],
   "source": [
    "# Print out the plan conditions and make sure they are clear for you\n",
    "\n",
    "print(\"Available plan names:\")\n",
    "print(plans_df['plan_name'].unique())\n",
    "\n",
    "plan_name = 'surf'  \n",
    "plan_info = plans_df[plans_df['plan_name'] == plan_name].iloc[0]\n",
    "minutes_included = plan_info['minutes_included']  \n",
    "monthly_pay = plan_info['usd_monthly_pay'] \n",
    "\n"
   ]
  },
  {
   "cell_type": "markdown",
   "metadata": {},
   "source": [
    "<div class=\"alert alert-danger\">\n",
    "    <b>Reviewer's comment – Iteration 2:</b><br>\n",
    "\n",
    "Please use the plans dataframe to extract information about each plan. Hard-coding this info makes it prone to errors, and must be revised again if the allowances of a plan change. \n",
    "</div>"
   ]
  },
  {
   "cell_type": "markdown",
   "metadata": {},
   "source": [
    "<div class=\"alert alert-success\">\n",
    "    <b>Reviewer's comment – Iteration 3:</b><br>\n",
    "OK -- the calculations have been moved elsewhere :)\n",
    "</div>"
   ]
  },
  {
   "cell_type": "markdown",
   "metadata": {},
   "source": [
    "## Aggregate data per user\n",
    "\n",
    "[Now, as the data is clean, aggregate data per user per period in order to have just one record per user per period. It should ease the further analysis a lot.]"
   ]
  },
  {
   "cell_type": "code",
   "execution_count": 24,
   "metadata": {},
   "outputs": [],
   "source": [
    "# Calculate the number of calls made by each user per month. Save the result.\n",
    "\n",
    "monthly_calls = calls_df.groupby(['user_id', calls_df['call_date'].dt.to_period('M')])['duration'].sum().reset_index()\n",
    "\n",
    "\n"
   ]
  },
  {
   "cell_type": "code",
   "execution_count": 25,
   "metadata": {},
   "outputs": [],
   "source": [
    "monthly_calls.columns = ['user_id', 'month', 'total_call_minutes']"
   ]
  },
  {
   "cell_type": "code",
   "execution_count": 26,
   "metadata": {},
   "outputs": [],
   "source": [
    "# Calculate the number of messages sent by each user per month. Save the result.\n",
    "\n",
    "messages_monthly = messages_df.groupby(['user_id', messages_df['message_date'].dt.to_period('M')])['id'].count().reset_index()\n",
    "messages_monthly.columns = ['user_id', 'month', 'total_messages']\n",
    "\n"
   ]
  },
  {
   "cell_type": "code",
   "execution_count": 27,
   "metadata": {},
   "outputs": [],
   "source": [
    "# Calculate the volume of internet traffic used by each user per month. Save the result.\n",
    "\n",
    "monthly_data_mb = internet_df.groupby(['user_id', internet_df['session_date'].dt.to_period('M')])['mb_used'].sum().reset_index()\n",
    "monthly_data_mb.columns = ['user_id', 'month', 'total_mb_used']\n",
    "\n"
   ]
  },
  {
   "cell_type": "markdown",
   "metadata": {},
   "source": [
    "[Put the aggregate data together into one DataFrame so that one record in it would represent what an unique user consumed in a given month.]"
   ]
  },
  {
   "cell_type": "code",
   "execution_count": 28,
   "metadata": {},
   "outputs": [
    {
     "name": "stdout",
     "output_type": "stream",
     "text": [
      "Usage DataFrame columns: ['user_id', 'month', 'total_call_minutes', 'total_messages', 'total_mb_used']\n",
      "Usage DataFrame shape: (2293, 5)\n",
      "   user_id    month  total_call_minutes  total_messages  total_mb_used\n",
      "0     1000  2018-12              116.83            11.0        1901.47\n",
      "1     1001  2018-08              171.14            30.0        6919.15\n",
      "2     1001  2018-09              297.69            44.0       13314.82\n",
      "3     1001  2018-10              374.11            53.0       22330.49\n",
      "4     1001  2018-11              404.59            36.0       18504.30\n",
      "Final usage DataFrame columns: ['user_id', 'month', 'total_call_minutes', 'total_messages', 'total_mb_used', 'plan', 'messages_included', 'mb_per_month_included', 'minutes_included', 'usd_monthly_pay', 'usd_per_gb', 'usd_per_message', 'usd_per_minute', 'plan_name']\n"
     ]
    }
   ],
   "source": [
    "usage = monthly_calls.merge(messages_monthly, on=['user_id', 'month'], how='outer')\n",
    "usage = usage.merge(monthly_data_mb, on=['user_id', 'month'], how='outer')\n",
    "\n",
    "usage.fillna(0, inplace=True)\n",
    "print(\"Usage DataFrame columns:\", usage.columns.tolist())\n",
    "print(\"Usage DataFrame shape:\", usage.shape)\n",
    "print(usage.head())\n",
    "\n",
    "\n",
    "usage = usage.merge(users_clean[['user_id', 'plan']], on='user_id', how='left')\n",
    "usage = usage.merge(plans_clean, left_on='plan', right_on='plan_name', how='left')\n",
    "\n",
    "\n",
    "\n",
    "# Convert month back to string \n",
    "usage['month'] = usage['month'].astype(str)\n",
    "\n",
    "print(\"Final usage DataFrame columns:\", usage.columns.tolist())\n",
    "\n",
    "\n",
    "\n"
   ]
  },
  {
   "cell_type": "code",
   "execution_count": 29,
   "metadata": {},
   "outputs": [
    {
     "data": {
      "text/html": [
       "<div>\n",
       "<style scoped>\n",
       "    .dataframe tbody tr th:only-of-type {\n",
       "        vertical-align: middle;\n",
       "    }\n",
       "\n",
       "    .dataframe tbody tr th {\n",
       "        vertical-align: top;\n",
       "    }\n",
       "\n",
       "    .dataframe thead th {\n",
       "        text-align: right;\n",
       "    }\n",
       "</style>\n",
       "<table border=\"1\" class=\"dataframe\">\n",
       "  <thead>\n",
       "    <tr style=\"text-align: right;\">\n",
       "      <th></th>\n",
       "      <th>user_id</th>\n",
       "      <th>month</th>\n",
       "      <th>total_call_minutes</th>\n",
       "      <th>total_messages</th>\n",
       "      <th>total_mb_used</th>\n",
       "      <th>plan</th>\n",
       "      <th>messages_included</th>\n",
       "      <th>mb_per_month_included</th>\n",
       "      <th>minutes_included</th>\n",
       "      <th>usd_monthly_pay</th>\n",
       "      <th>usd_per_gb</th>\n",
       "      <th>usd_per_message</th>\n",
       "      <th>usd_per_minute</th>\n",
       "      <th>plan_name</th>\n",
       "    </tr>\n",
       "  </thead>\n",
       "  <tbody>\n",
       "    <tr>\n",
       "      <th>0</th>\n",
       "      <td>1000</td>\n",
       "      <td>2018-12</td>\n",
       "      <td>116.83</td>\n",
       "      <td>11.0</td>\n",
       "      <td>1901.47</td>\n",
       "      <td>ultimate</td>\n",
       "      <td>1000</td>\n",
       "      <td>30720</td>\n",
       "      <td>3000</td>\n",
       "      <td>70</td>\n",
       "      <td>7</td>\n",
       "      <td>0.01</td>\n",
       "      <td>0.01</td>\n",
       "      <td>ultimate</td>\n",
       "    </tr>\n",
       "    <tr>\n",
       "      <th>1</th>\n",
       "      <td>1001</td>\n",
       "      <td>2018-08</td>\n",
       "      <td>171.14</td>\n",
       "      <td>30.0</td>\n",
       "      <td>6919.15</td>\n",
       "      <td>surf</td>\n",
       "      <td>50</td>\n",
       "      <td>15360</td>\n",
       "      <td>500</td>\n",
       "      <td>20</td>\n",
       "      <td>10</td>\n",
       "      <td>0.03</td>\n",
       "      <td>0.03</td>\n",
       "      <td>surf</td>\n",
       "    </tr>\n",
       "    <tr>\n",
       "      <th>2</th>\n",
       "      <td>1001</td>\n",
       "      <td>2018-09</td>\n",
       "      <td>297.69</td>\n",
       "      <td>44.0</td>\n",
       "      <td>13314.82</td>\n",
       "      <td>surf</td>\n",
       "      <td>50</td>\n",
       "      <td>15360</td>\n",
       "      <td>500</td>\n",
       "      <td>20</td>\n",
       "      <td>10</td>\n",
       "      <td>0.03</td>\n",
       "      <td>0.03</td>\n",
       "      <td>surf</td>\n",
       "    </tr>\n",
       "    <tr>\n",
       "      <th>3</th>\n",
       "      <td>1001</td>\n",
       "      <td>2018-10</td>\n",
       "      <td>374.11</td>\n",
       "      <td>53.0</td>\n",
       "      <td>22330.49</td>\n",
       "      <td>surf</td>\n",
       "      <td>50</td>\n",
       "      <td>15360</td>\n",
       "      <td>500</td>\n",
       "      <td>20</td>\n",
       "      <td>10</td>\n",
       "      <td>0.03</td>\n",
       "      <td>0.03</td>\n",
       "      <td>surf</td>\n",
       "    </tr>\n",
       "    <tr>\n",
       "      <th>4</th>\n",
       "      <td>1001</td>\n",
       "      <td>2018-11</td>\n",
       "      <td>404.59</td>\n",
       "      <td>36.0</td>\n",
       "      <td>18504.30</td>\n",
       "      <td>surf</td>\n",
       "      <td>50</td>\n",
       "      <td>15360</td>\n",
       "      <td>500</td>\n",
       "      <td>20</td>\n",
       "      <td>10</td>\n",
       "      <td>0.03</td>\n",
       "      <td>0.03</td>\n",
       "      <td>surf</td>\n",
       "    </tr>\n",
       "  </tbody>\n",
       "</table>\n",
       "</div>"
      ],
      "text/plain": [
       "   user_id    month  total_call_minutes  total_messages  total_mb_used  \\\n",
       "0     1000  2018-12              116.83            11.0        1901.47   \n",
       "1     1001  2018-08              171.14            30.0        6919.15   \n",
       "2     1001  2018-09              297.69            44.0       13314.82   \n",
       "3     1001  2018-10              374.11            53.0       22330.49   \n",
       "4     1001  2018-11              404.59            36.0       18504.30   \n",
       "\n",
       "       plan  messages_included  mb_per_month_included  minutes_included  \\\n",
       "0  ultimate               1000                  30720              3000   \n",
       "1      surf                 50                  15360               500   \n",
       "2      surf                 50                  15360               500   \n",
       "3      surf                 50                  15360               500   \n",
       "4      surf                 50                  15360               500   \n",
       "\n",
       "   usd_monthly_pay  usd_per_gb  usd_per_message  usd_per_minute plan_name  \n",
       "0               70           7             0.01            0.01  ultimate  \n",
       "1               20          10             0.03            0.03      surf  \n",
       "2               20          10             0.03            0.03      surf  \n",
       "3               20          10             0.03            0.03      surf  \n",
       "4               20          10             0.03            0.03      surf  "
      ]
     },
     "execution_count": 29,
     "metadata": {},
     "output_type": "execute_result"
    }
   ],
   "source": [
    "# Display the final aggregated DataFrame\n",
    "\n",
    "usage.head()"
   ]
  },
  {
   "cell_type": "markdown",
   "metadata": {},
   "source": [
    "[Calculate the monthly revenue from each user (subtract the free package limit from the total number of calls, text messages, and data; multiply the result by the calling plan value; add the monthly charge depending on the calling plan). N.B. This might not be as trivial as just a couple of lines given the plan conditions! So, it's okay to spend some time on it.]"
   ]
  },
  {
   "cell_type": "code",
   "execution_count": 30,
   "metadata": {},
   "outputs": [
    {
     "name": "stdout",
     "output_type": "stream",
     "text": [
      "   user_id plan_name  monthly_revenue\n",
      "0     1000  ultimate               70\n",
      "1     1001      surf               20\n",
      "2     1001      surf               20\n",
      "3     1001      surf               20\n",
      "4     1001      surf               20\n"
     ]
    }
   ],
   "source": [
    "\n",
    "usage['minutes_charge'] = np.where(\n",
    "    usage['total_call_minutes'] > usage['minutes_included'],\n",
    "    (usage['total_call_minutes'] - usage['minutes_included']) * usage['usd_per_minute'],\n",
    "    0\n",
    ")\n",
    "\n",
    "usage['messages_charge'] = np.where(\n",
    "    usage['total_messages'] > usage['messages_included'],\n",
    "    (usage['total_messages'] - usage['messages_included']) * usage['usd_per_message'],\n",
    "    0\n",
    ")\n",
    "\n",
    "usage['gb_used'] = usage['total_mb_used'] / 1024  # Convert MB to GB\n",
    "usage['gb_charge'] = np.where(\n",
    "    usage['gb_used'] > usage['mb_per_month_included'] / 1024,\n",
    "    (usage['gb_used'] - usage['mb_per_month_included'] / 1024) * usage['usd_per_gb'],\n",
    "    0\n",
    ")\n",
    "\n",
    "\n",
    "#usage['monthly_revenue'] = usage['usd_monthly_pay'] + usage['minutes_charge'] + usage['messages_charge'] + usage['gb_charge']\n",
    "\n",
    "\n",
    "\n",
    "def calculate_monthly_revenue(user_row):\n",
    "    plan_info = plans_df[plans_df['plan_name'] == user_row['plan']].iloc[0]\n",
    "    \n",
    "    #extra_minutes = max(0, user_row['total_call_minutes'] - plan_info['minutes_included'])\n",
    "    #extra_messages = max(0, user_row['total_messages'] - plan_info['messages_included'])\n",
    "    #extra_data = max(0, user_row['total_mb_used'] - plan_info['mb_per_month_included']/1024)\n",
    "    \n",
    "    #minutes_charge = extra_minutes * plan_info['usd_per_minute']\n",
    "    #messages_charge = extra_messages * plan_info['usd_per_message']\n",
    "    #data_charge = extra_data * plan_info['usd_per_gb']\n",
    "    \n",
    "    total_revenue = plan_info['usd_monthly_pay'] #+ minutes_charge + messages_charge + data_charge\n",
    "    return total_revenue\n",
    "\n",
    "# Apply to the USAGE DataFrame, not users_df\n",
    "usage['monthly_revenue'] = usage.apply(calculate_monthly_revenue, axis=1)\n",
    "\n",
    "# Display the result\n",
    "print(usage[['user_id', 'plan_name', 'monthly_revenue']].head())\n"
   ]
  },
  {
   "cell_type": "markdown",
   "metadata": {},
   "source": [
    "<div class=\"alert alert-danger\">\n",
    "    <b>Reviewer's comment – Iteration 2:</b><br>\n",
    "Please display the monthly revenue for each user.\n",
    "</div>"
   ]
  },
  {
   "cell_type": "markdown",
   "metadata": {},
   "source": [
    "<div class=\"alert alert-danger\">\n",
    "    <b>Reviewer's comment – Iteration 3:</b><br>\n",
    "The monthly_revenue values appear to be way too high. To troubleshoot this issue, I suggest proceed by commenting out most lines, then uncomment it one by one, running the function after each line, to inspect whether the result at each step is sensible. \n",
    "</div>"
   ]
  },
  {
   "cell_type": "markdown",
   "metadata": {},
   "source": [
    "<div class=\"alert alert-success\">\n",
    "    <b>Reviewer's comment – Iteration 3:</b><br>\n",
    "Fixed.\n",
    "</div>\n"
   ]
  },
  {
   "cell_type": "markdown",
   "metadata": {},
   "source": [
    "## Study user behaviour"
   ]
  },
  {
   "cell_type": "markdown",
   "metadata": {},
   "source": [
    "[Calculate some useful descriptive statistics for the aggregated and merged data, which typically reveal an overall picture captured by the data. Draw useful plots to help the understanding. Given that the main task is to compare the plans and decide on which one is more profitable, the statistics and the plots should be calculated on a per-plan basis.]\n",
    "\n",
    "[There are relevant hints in the comments for Calls but they are not provided for Messages and Internet though the principle of statistical study is the same for them as for Calls.]"
   ]
  },
  {
   "cell_type": "markdown",
   "metadata": {},
   "source": [
    "### Calls"
   ]
  },
  {
   "cell_type": "code",
   "execution_count": 31,
   "metadata": {},
   "outputs": [
    {
     "data": {
      "image/png": "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",
      "text/plain": [
       "<Figure size 1200x600 with 1 Axes>"
      ]
     },
     "metadata": {},
     "output_type": "display_data"
    }
   ],
   "source": [
    "# Reload your original data\n",
    "users_clean = pd.read_csv('/datasets/megaline_users.csv')\n",
    "plans_clean = pd.read_csv('/datasets/megaline_plans.csv')\n",
    "\n",
    "# Recreate your usage DataFrame cleanly\n",
    "usage_clean = monthly_calls.merge(messages_monthly, on=['user_id', 'month'], how='outer')\n",
    "usage_clean = usage_clean.merge(monthly_data_mb, on=['user_id', 'month'], how='outer')\n",
    "usage_clean.fillna(0, inplace=True)\n",
    "\n",
    "# Now merge with user info using clean data\n",
    "usage_clean = usage_clean.merge(users_clean[['user_id', 'plan']], on='user_id', how='left')\n",
    "# Compare average duration of calls per each plan per each distinct month. Plot a bar plat to visualize it.\n",
    "\n",
    "\n",
    "avg_duration = usage_clean.groupby(['month', 'plan'])['total_call_minutes'].mean().unstack()\n",
    "\n",
    "avg_duration.plot(kind='bar', figsize=(12, 6))\n",
    "plt.title('Average Call Duration per Plan per Month')\n",
    "plt.xlabel('Month')\n",
    "plt.ylabel('Average Call Duration (minutes)')\n",
    "plt.legend(title='Plan')\n",
    "plt.tight_layout()\n",
    "plt.show()\n"
   ]
  },
  {
   "cell_type": "code",
   "execution_count": 32,
   "metadata": {},
   "outputs": [
    {
     "data": {
      "image/png": "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",
      "text/plain": [
       "<Figure size 1000x600 with 1 Axes>"
      ]
     },
     "metadata": {},
     "output_type": "display_data"
    }
   ],
   "source": [
    "# Compare the number of minutes users of each plan require each month. Plot a histogram.\n",
    "\n",
    "surf_minutes = usage_clean[usage_clean['plan'] == 'surf']['total_call_minutes']\n",
    "ultimate_minutes = usage_clean[usage_clean['plan'] == 'ultimate']['total_call_minutes']\n",
    "\n",
    "plt.figure(figsize =(10,6))\n",
    "plt.hist(surf_minutes, bins=5, alpha=0.6, label='Surf Plan', color='blue')\n",
    "plt.axvline(x=500, color='blue', linestyle='dashed', linewidth=1, label = 'Surf Plan Limit (500 min)')\n",
    "\n",
    "plt.hist(ultimate_minutes, bins=5, alpha=0.6, label='Ultimate Plan', color='orange')\n",
    "plt.axvline(x=3000, color='orange', linestyle='dashed', linewidth=1, label = 'Ultimate Plan Limit (3000 min)')\n",
    "\n",
    "plt.title('Monthly Minute Usage Distribution by Plan')\n",
    "plt.xlabel('Monthly Minutes Used')\n",
    "plt.ylabel('Number of User-Months')\n",
    "plt.legend()\n",
    "plt.tight_layout()\n",
    "plt.show()"
   ]
  },
  {
   "cell_type": "markdown",
   "metadata": {},
   "source": [
    "[Calculate the mean and the variable of the call duration to reason on whether users on the different plans have different behaviours for their calls.]"
   ]
  },
  {
   "cell_type": "code",
   "execution_count": 33,
   "metadata": {},
   "outputs": [
    {
     "name": "stdout",
     "output_type": "stream",
     "text": [
      "       Plan  Mean_Call_Durtation  Variance_Call_Duration\n",
      "0      surf           404.762390            49135.104891\n",
      "1  ultimate           406.193083            51640.971402\n"
     ]
    }
   ],
   "source": [
    "# Calculate the mean and the variance of the monthly call duration\n",
    "stats = usage_clean.groupby('plan')['total_call_minutes'].agg(['mean', 'var']).reset_index()\n",
    "\n",
    "#Display results\n",
    "stats.columns = ['Plan', 'Mean_Call_Durtation', 'Variance_Call_Duration']\n",
    "print(stats)"
   ]
  },
  {
   "cell_type": "code",
   "execution_count": 34,
   "metadata": {},
   "outputs": [
    {
     "data": {
      "image/png": "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",
      "text/plain": [
       "<Figure size 1000x600 with 1 Axes>"
      ]
     },
     "metadata": {},
     "output_type": "display_data"
    }
   ],
   "source": [
    "# Plot a boxplot to visualize the distribution of the monthly call duration\n",
    "\n",
    "plt.figure(figsize=(10,6))\n",
    "sns.boxplot(x='plan', y='total_call_minutes', data=usage_clean)\n",
    "\n",
    "plt.title('Distribution of Monthly Call Duration by Plan Type')\n",
    "plt.xlabel('Plan Type')\n",
    "plt.ylabel('Monthly Call Duration (minutes)')\n",
    "plt.tight_layout()\n",
    "plt.show()"
   ]
  },
  {
   "cell_type": "markdown",
   "metadata": {},
   "source": [
    "[Formulate conclusions on how the users behave in terms of calling. Is their behaviour different between the plans?]"
   ]
  },
  {
   "cell_type": "markdown",
   "metadata": {},
   "source": [
    " "
   ]
  },
  {
   "cell_type": "markdown",
   "metadata": {},
   "source": [
    "### Messages"
   ]
  },
  {
   "cell_type": "code",
   "execution_count": 35,
   "metadata": {},
   "outputs": [
    {
     "name": "stdout",
     "output_type": "stream",
     "text": [
      "Message usage statistics by plan:\n",
      "       plan       mean  median          var        std  range\n",
      "0      surf  31.159568    24.0  1126.724522  33.566717  266.0\n",
      "1  ultimate  37.551389    30.0  1208.756744  34.767179  166.0\n"
     ]
    },
    {
     "data": {
      "image/png": "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",
      "text/plain": [
       "<Figure size 1200x500 with 1 Axes>"
      ]
     },
     "metadata": {},
     "output_type": "display_data"
    },
    {
     "data": {
      "image/png": "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",
      "text/plain": [
       "<Figure size 1000x600 with 1 Axes>"
      ]
     },
     "metadata": {},
     "output_type": "display_data"
    }
   ],
   "source": [
    "# Compare the number of messages users of each plan tend to send each month\n",
    "stats = usage_clean.groupby('plan')['total_messages'].agg(['mean', 'median', 'var', 'std', 'min', 'max']).reset_index()\n",
    "stats['range'] = stats['max'] - stats['min']\n",
    "stats = stats[['plan', 'mean', 'median', 'var', 'std', 'range']]\n",
    "\n",
    "print(\"Message usage statistics by plan:\")\n",
    "print(stats)\n",
    "\n",
    "# Histogram\n",
    "plt.figure(figsize=(12,5))\n",
    "sns.histplot(data=usage_clean, x='total_messages', hue='plan', element='step', stat='density', common_norm=False)\n",
    "plt.title('Histogram of Monthly Messages Sent by Plan Type')\n",
    "plt.xlabel('Messages per Month')\n",
    "plt.ylabel('Density')\n",
    "plt.tight_layout()\n",
    "plt.show()\n",
    "\n",
    "# Boxplot \n",
    "plt.figure(figsize=(10, 6))\n",
    "sns.boxplot(x='plan', y='total_messages', data=usage_clean)\n",
    "plt.title('Boxplot of Monthly Messages Sent by Plan Type')\n",
    "plt.xlabel('Plan Type')\n",
    "plt.ylabel('Messages per Month')\n",
    "plt.tight_layout()\n",
    "plt.show()"
   ]
  },
  {
   "cell_type": "code",
   "execution_count": 36,
   "metadata": {},
   "outputs": [
    {
     "data": {
      "image/png": "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",
      "text/plain": [
       "<Figure size 1200x500 with 1 Axes>"
      ]
     },
     "metadata": {},
     "output_type": "display_data"
    }
   ],
   "source": [
    "# Compare the amount of internet traffic consumed by users per plan\n",
    "usage_clean['total_gb_used'] = usage_clean['total_mb_used'] / 1024\n",
    "\n",
    "# Histogram\n",
    "plt.figure(figsize=(12,5))\n",
    "sns.histplot(data=usage_clean, x='total_gb_used', hue='plan', element='step', stat='density', common_norm=False)\n",
    "plt.title('Histogram of Monthly Internet Usage by Plan Type')\n",
    "plt.xlabel('Internet Usage (GB)')\n",
    "plt.ylabel('Density')\n",
    "plt.tight_layout()\n",
    "plt.show()\n",
    "\n"
   ]
  },
  {
   "cell_type": "code",
   "execution_count": 37,
   "metadata": {},
   "outputs": [
    {
     "data": {
      "image/png": "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",
      "text/plain": [
       "<Figure size 1000x600 with 1 Axes>"
      ]
     },
     "metadata": {},
     "output_type": "display_data"
    },
    {
     "name": "stdout",
     "output_type": "stream",
     "text": [
      "Internet usage statistics by plan:\n",
      "       plan       mean     median        var       std  min        max\n",
      "0      surf  16.170199  16.434873  61.241527  7.825697  0.0  69.269131\n",
      "1  ultimate  16.811230  16.463223  58.796209  7.667869  0.0  45.503252\n"
     ]
    }
   ],
   "source": [
    "# Boxplot \n",
    "plt.figure(figsize=(10, 6))\n",
    "sns.boxplot(x='plan', y='total_gb_used', data=usage_clean)\n",
    "plt.title('Boxplot of Monthly Internet Usage by Plan Type')\n",
    "plt.xlabel('Plan Type')\n",
    "plt.ylabel('Internet Usage (GB)')\n",
    "plt.tight_layout()\n",
    "plt.show()\n",
    "\n",
    "# Statistics\n",
    "stats = usage_clean.groupby('plan')['total_gb_used'].agg(['mean', 'median', 'var', 'std', 'min', 'max']).reset_index()\n",
    "print(\"Internet usage statistics by plan:\")\n",
    "print(stats)"
   ]
  },
  {
   "cell_type": "markdown",
   "metadata": {},
   "source": [
    "[Formulate conclusions on how the users behave in terms of messaging. Is their behaviour different between the plans?]"
   ]
  },
  {
   "cell_type": "markdown",
   "metadata": {},
   "source": [
    " "
   ]
  },
  {
   "cell_type": "markdown",
   "metadata": {},
   "source": [
    "### Internet"
   ]
  },
  {
   "cell_type": "code",
   "execution_count": 38,
   "metadata": {},
   "outputs": [],
   "source": [
    "\n",
    "\n",
    "monthly_internet = internet_df.groupby(['user_id', internet_df['session_date'].dt.to_period('M')])['mb_used'].sum().reset_index()\n",
    "monthly_internet.columns = ['user_id', 'month', 'total_mb_used']\n"
   ]
  },
  {
   "cell_type": "code",
   "execution_count": 39,
   "metadata": {},
   "outputs": [],
   "source": [
    "monthly_internet = monthly_internet.merge(users_df[['user_id', 'plan']], on='user_id', how='left')"
   ]
  },
  {
   "cell_type": "code",
   "execution_count": 40,
   "metadata": {},
   "outputs": [
    {
     "data": {
      "image/png": "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",
      "text/plain": [
       "<Figure size 800x600 with 1 Axes>"
      ]
     },
     "metadata": {},
     "output_type": "display_data"
    }
   ],
   "source": [
    "\n",
    "# Box plot\n",
    "\n",
    "plt.figure(figsize=(8, 6))\n",
    "sns.boxplot(x='plan', y='total_mb_used', data=monthly_internet)\n",
    "plt.title('Monthly Internet Usage by Plan')\n",
    "plt.xlabel('Plan')\n",
    "plt.ylabel('MB Used')\n",
    "plt.show()\n"
   ]
  },
  {
   "cell_type": "markdown",
   "metadata": {},
   "source": [
    "[Formulate conclusions on how the users tend to consume the internet traffic? Is their behaviour different between the plans?]"
   ]
  },
  {
   "cell_type": "markdown",
   "metadata": {},
   "source": [
    " "
   ]
  },
  {
   "cell_type": "markdown",
   "metadata": {},
   "source": [
    "## Revenue"
   ]
  },
  {
   "cell_type": "markdown",
   "metadata": {},
   "source": [
    "[Likewise you have studied the user behaviour, statistically describe the revenue between the plans.]"
   ]
  },
  {
   "cell_type": "code",
   "execution_count": 41,
   "metadata": {},
   "outputs": [],
   "source": [
    "# Plan fees and limits \n",
    "surf_base_fee = 30\n",
    "ultimate_base_fee  = 70\n",
    "\n",
    "surf_limits = {'minutes': 500, 'messages': 50, 'internet':15}\n",
    "ultimate_limits = {'minutes': 3000, 'messages': 1000, 'internet':30}\n",
    "\n",
    "surf_rates = {'minutes': 0.03, 'messages': 0.03, 'internet':10}\n",
    "ultimate_rates = {'minutes': 0.01, 'messages': 0.01, 'internet':7}\n",
    "\n",
    "\n",
    "# Apply revenue calculation \n",
    "usage_clean['revenue'] = usage_clean.apply(calculate_monthly_revenue, axis=1)\n",
    "\n",
    "# Saving statistics to CSV \n",
    "stats.to_csv(\"monthly_revenue_statistics.csv\", index=False)"
   ]
  },
  {
   "cell_type": "markdown",
   "metadata": {},
   "source": [
    "<div class=\"alert alert-danger\">\n",
    "    <b>Reviewer's comment – Iteration 2:</b><br>\n",
    "\n",
    "Why is the revenue being calculated again here? If it has been done before, please remove.\n",
    "</div>"
   ]
  },
  {
   "cell_type": "code",
   "execution_count": 42,
   "metadata": {},
   "outputs": [
    {
     "data": {
      "image/png": "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",
      "text/plain": [
       "<Figure size 1200x500 with 1 Axes>"
      ]
     },
     "metadata": {},
     "output_type": "display_data"
    }
   ],
   "source": [
    "#Histogram \n",
    "plt.figure(figsize=(12,5))\n",
    "sns.histplot(data=usage_clean, x='revenue', hue='plan', element='step', stat='density', common_norm=False)\n",
    "plt.title('Histogram of Monthly Revenue by Plan Type')\n",
    "plt.xlabel('Monthly Revenue ($)')\n",
    "plt.ylabel('Density')\n",
    "plt.tight_layout()\n",
    "plt.show()"
   ]
  },
  {
   "cell_type": "code",
   "execution_count": 43,
   "metadata": {},
   "outputs": [
    {
     "data": {
      "image/png": "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",
      "text/plain": [
       "<Figure size 1000x600 with 1 Axes>"
      ]
     },
     "metadata": {},
     "output_type": "display_data"
    }
   ],
   "source": [
    "# Boxplot \n",
    "plt.figure(figsize=(10,6))\n",
    "sns.boxplot(x='plan', y='revenue', data=usage_clean)\n",
    "plt.title('Boxplot of Monthly Revenue by Plan Type')\n",
    "plt.xlabel('Plan Type')\n",
    "plt.ylabel('Monthly Revenue ($)')\n",
    "\n",
    "plt.tight_layout()\n",
    "\n",
    "plt.savefig(\"monthly_revenue_boxplot.png\")\n",
    "plt.show()"
   ]
  },
  {
   "cell_type": "markdown",
   "metadata": {},
   "source": [
    "[Formulate conclusions about how the revenue differs between the plans.]"
   ]
  },
  {
   "cell_type": "markdown",
   "metadata": {},
   "source": [
    " "
   ]
  },
  {
   "cell_type": "markdown",
   "metadata": {},
   "source": [
    "## Test statistical hypotheses"
   ]
  },
  {
   "cell_type": "markdown",
   "metadata": {},
   "source": [
    "[Test the hypothesis that the average revenue from users of the Ultimate and Surf calling plans differs.]"
   ]
  },
  {
   "cell_type": "markdown",
   "metadata": {},
   "source": [
    "[Formulate the null and the alternative hypotheses, choose the statistical test, decide on the alpha value.]"
   ]
  },
  {
   "cell_type": "code",
   "execution_count": 44,
   "metadata": {},
   "outputs": [
    {
     "name": "stderr",
     "output_type": "stream",
     "text": [
      "/tmp/ipykernel_472/3622180898.py:13: RuntimeWarning: Precision loss occurred in moment calculation due to catastrophic cancellation. This occurs when the data are nearly identical. Results may be unreliable.\n",
      "  t_stat, p_value = scipy_stats.ttest_ind(ultimate_df, surf_df, equal_var=False)\n"
     ]
    }
   ],
   "source": [
    "# Test the hypotheses\n",
    "#ultimate_users = usage_clean[usage_clean['plan'] == 'ultimate']['revenue']\n",
    "#surf_users = usage_clean[usage_clean['plan'] == 'surf']['revenue']\n",
    "\n",
    "ultimate_df = usage_clean[usage_clean['plan'] == 'ultimate'][['revenue']]\n",
    "surf_df = usage_clean[usage_clean['plan'] == 'surf'][['revenue']]\n",
    "\n",
    "alpha = 0.05\n",
    "# Two-Sample Test\n",
    "\n",
    "from scipy import stats as scipy_stats\n",
    "\n",
    "t_stat, p_value = scipy_stats.ttest_ind(ultimate_df, surf_df, equal_var=False)\n",
    "\n",
    "if p_value < alpha:\n",
    "    result = \"Reject the null hyphothesis\""
   ]
  },
  {
   "cell_type": "markdown",
   "metadata": {},
   "source": [
    "[Test the hypothesis that the average revenue from users in the NY-NJ area is different from that of the users from the other regions.]"
   ]
  },
  {
   "cell_type": "markdown",
   "metadata": {},
   "source": [
    "[Formulate the null and the alternative hypotheses, choose the statistical test, decide on the alpha value.]"
   ]
  },
  {
   "cell_type": "code",
   "execution_count": 45,
   "metadata": {},
   "outputs": [
    {
     "name": "stdout",
     "output_type": "stream",
     "text": [
      "Fail to reject the null hypothesis\n",
      "There is NO significant difference between groups\n",
      "Test statistic: -1.7733\n",
      "P-value: 0.0788\n"
     ]
    }
   ],
   "source": [
    "# Test the hypotheses\n",
    "\n",
    "# NY-NJ Users\n",
    "\n",
    "user_revenue = usage_clean.groupby('user_id')['revenue'].mean().reset_index()\n",
    "users_with_revenue = users_clean.merge(user_revenue, on='user_id', how='left')\n",
    "\n",
    "ny_nj_mask = users_with_revenue['city'].str.contains('New York|New Jersey', na=False)\n",
    "ny_nj_users = users_with_revenue[ny_nj_mask]['revenue']\n",
    "other_users = users_with_revenue[~ny_nj_mask]['revenue']\n",
    "\n",
    "# Histogram \n",
    "plt.figure(figsize=(10,5))\n",
    "plt.hist(ny_nj_users, bins=15, alpha=0.7, label='NY-NJ Area')\n",
    "plt.hist(other_users, bins=15, alpha=0.7, label='Other Regions')\n",
    "plt.title('Monthly Revenue Distribution by Region')\n",
    "plt.xlabel('Monthly Revenue ($)')\n",
    "plt.ylabel('Frequency')\n",
    "plt.legend()\n",
    "plt.grid(True)\n",
    "plt.tight_layout()\n",
    "plt.savefig(\"ny_nj_vs_other_revenue_distribution.png\")\n",
    "plt.close()\n",
    "\n",
    "\n",
    "\n",
    "ny_nj_clean = ny_nj_users[~np.isnan(ny_nj_users)]\n",
    "other_clean = other_users[~np.isnan(other_users)]\n",
    "\n",
    "\n",
    "# Two Sample T Test\n",
    "\n",
    "t_stat, p_value = scipy_stats.ttest_ind(ny_nj_clean, other_clean, equal_var=False)\n",
    "\n",
    "\n",
    "alpha = 0.05\n",
    "\n",
    "if p_value < alpha:\n",
    "    print(\"Reject the null hypothesis\")\n",
    "    print(\"There IS a significant difference between groups\")\n",
    "else:\n",
    "    print(\"Fail to reject the null hypothesis\") \n",
    "    print(\"There is NO significant difference between groups\")\n",
    "\n",
    "\n",
    "\n",
    "\n",
    "#print(\"Null values in ultimate_df:\", ultimate_df.isnull().sum())\n",
    "#print(\"Null values in surf_df:\", surf_df.isnull().sum())\n",
    "\n",
    "#print(\"Ultimate users sample:\", ultimate_df.head())\n",
    "#print(\"Surf users sample:\", surf_df.head())\n",
    "\n",
    "\n",
    "#ultimate_clean = ultimate_df.dropna(subset=['revenue'])\n",
    "#surf_clean = surf_df.dropna(subset=['revenue'])\n",
    "\n",
    "#ultimate_users_clean = ultimate_clean['revenue']\n",
    "#surf_users_clean = surf_clean['revenue']\n",
    "\n",
    "\n",
    "\n",
    "print(f\"Test statistic: {t_stat:.4f}\")\n",
    "print(f\"P-value: {p_value:.4f}\")\n",
    " "
   ]
  },
  {
   "cell_type": "markdown",
   "metadata": {},
   "source": [
    "<div class=\"alert alert-danger\">\n",
    "    <b>Reviewer's comment – Iteration 2:</b><br>\n",
    "\n",
    "Where are the outputs of the t-tests? \n",
    "</div>"
   ]
  },
  {
   "cell_type": "markdown",
   "metadata": {},
   "source": [
    "<div class=\"alert alert-danger\">\n",
    "    <b>Reviewer's comment – Iteration 3:</b><br>\n",
    "Please print out the p-values as well.\n",
    "</div>"
   ]
  },
  {
   "cell_type": "markdown",
   "metadata": {},
   "source": [
    "<div class=\"alert alert-danger\">\n",
    "    <b>Reviewer's comment – Iteration 4:</b><br>\n",
    "\n",
    "The p-value and t-stat should not be nan. Null values in your data can cause this.\n",
    "</div>\n"
   ]
  },
  {
   "cell_type": "markdown",
   "metadata": {},
   "source": [
    "<div class=\"alert alert-success\">\n",
    "    <b>Reviewer's comment – Iteration 5:</b><br>\n",
    "\n",
    "Well done. Yes, removing the nulls resolved the previous issue.\n",
    "</div>\n"
   ]
  },
  {
   "cell_type": "markdown",
   "metadata": {},
   "source": [
    "## General conclusion\n",
    "\n",
    "[List your important conclusions in this final section, make sure they cover all those important decisions (assumptions) that you've made and that led you to the way you processed and analyzed the data.]"
   ]
  },
  {
   "cell_type": "code",
   "execution_count": 46,
   "metadata": {},
   "outputs": [],
   "source": [
    "# After the analysis, it reveals that users subscribed to the Ultimate plan consistently generate higher monthly revenue for Megaline compared to the Surf plan.\n",
    "\n",
    "# While Surf users frequently exceed their plan limits—particularly in data usage—Ultimate users tend to stay within their generous allowances, resulting in more predictable revenue. \n",
    "\n",
    "# Statistical testing confirms that the revenue difference between the two plans is significant, suggesting a clear opportunity for strategic optimization.\n",
    "\n",
    "# From a business perspective, these findings support a reallocation of marketing resources toward promoting the Ultimate plan, especially to high-usage customers who would benefit from its larger allowances. \n",
    "\n",
    "# Additionally, Megaline may consider revising the Surf plan’s limits or pricing structure to better align with actual usage patterns and reduce churn. Regional usage trends could further inform targeted advertising strategies, ensuring that promotional efforts are tailored to customer behavior in different markets.\n",
    "\n",
    "# By aligning product offerings with customer needs and usage habits, Megaline can enhance customer satisfaction while maximizing revenue potential.\n",
    "\n"
   ]
  },
  {
   "cell_type": "markdown",
   "metadata": {},
   "source": [
    "<div class=\"alert alert-danger\">\n",
    "    <b>Reviewer's comment – Iteration 2:</b><br>\n",
    "Please write a conclusion section, with the business interests in mind. What do your data findings indicate? What implications do they have for the business?\n",
    "</div>"
   ]
  },
  {
   "cell_type": "markdown",
   "metadata": {},
   "source": [
    "<div class=\"alert alert-success\">\n",
    "    <b>Reviewer's comment – Iteration 3:</b><br>\n",
    "Great\n",
    "</div>"
   ]
  },
  {
   "cell_type": "markdown",
   "metadata": {},
   "source": [
    " "
   ]
  }
 ],
 "metadata": {
  "ExecuteTimeLog": [
   {
    "duration": 828,
    "start_time": "2021-11-16T09:21:11.304Z"
   },
   {
    "duration": 893,
    "start_time": "2021-11-16T09:21:17.728Z"
   },
   {
    "duration": 1150,
    "start_time": "2021-11-16T09:21:29.568Z"
   },
   {
    "duration": 3,
    "start_time": "2021-11-16T09:24:14.495Z"
   },
   {
    "duration": 120,
    "start_time": "2021-11-16T09:24:46.630Z"
   },
   {
    "duration": 3,
    "start_time": "2021-11-16T09:28:27.882Z"
   },
   {
    "duration": 4,
    "start_time": "2021-11-16T09:29:54.281Z"
   },
   {
    "duration": 3,
    "start_time": "2021-11-16T09:30:45.936Z"
   },
   {
    "duration": 4,
    "start_time": "2021-11-16T09:31:06.300Z"
   },
   {
    "duration": 113,
    "start_time": "2021-11-16T09:31:37.208Z"
   },
   {
    "duration": 143,
    "start_time": "2021-11-16T09:31:48.656Z"
   },
   {
    "duration": 98,
    "start_time": "2021-11-16T09:31:55.678Z"
   },
   {
    "duration": 3,
    "start_time": "2021-11-16T09:32:08.535Z"
   },
   {
    "duration": 111,
    "start_time": "2021-11-16T09:32:10.120Z"
   },
   {
    "duration": 3,
    "start_time": "2021-11-16T09:32:15.732Z"
   },
   {
    "duration": 4,
    "start_time": "2021-11-16T09:32:29.423Z"
   },
   {
    "duration": 3,
    "start_time": "2021-11-16T10:03:03.074Z"
   },
   {
    "duration": 3,
    "start_time": "2021-11-16T10:10:01.288Z"
   },
   {
    "duration": 3,
    "start_time": "2021-11-16T10:10:46.923Z"
   },
   {
    "duration": 121,
    "start_time": "2021-11-16T10:37:46.494Z"
   },
   {
    "duration": 125,
    "start_time": "2021-11-16T10:38:20.632Z"
   },
   {
    "duration": 112,
    "start_time": "2021-11-16T10:46:53.001Z"
   },
   {
    "duration": 110,
    "start_time": "2021-11-16T10:48:25.775Z"
   },
   {
    "duration": 3,
    "start_time": "2021-11-16T10:50:18.720Z"
   },
   {
    "duration": 4,
    "start_time": "2021-11-16T10:50:37.649Z"
   },
   {
    "duration": 2,
    "start_time": "2021-11-16T10:50:51.884Z"
   },
   {
    "duration": 3,
    "start_time": "2021-11-16T10:51:56.237Z"
   },
   {
    "duration": 101,
    "start_time": "2021-11-16T10:53:13.791Z"
   },
   {
    "duration": 3,
    "start_time": "2021-11-16T10:55:59.186Z"
   },
   {
    "duration": 3,
    "start_time": "2021-11-16T10:56:10.751Z"
   },
   {
    "duration": 3,
    "start_time": "2021-11-16T10:56:49.038Z"
   },
   {
    "duration": 3,
    "start_time": "2021-11-16T10:56:49.174Z"
   },
   {
    "duration": 4,
    "start_time": "2021-11-16T10:56:49.414Z"
   },
   {
    "duration": 3,
    "start_time": "2021-11-16T10:56:49.680Z"
   },
   {
    "duration": 3,
    "start_time": "2021-11-16T10:56:50.370Z"
   },
   {
    "duration": 114,
    "start_time": "2021-11-16T10:59:34.518Z"
   },
   {
    "duration": 3,
    "start_time": "2021-11-16T11:01:41.201Z"
   },
   {
    "duration": 116,
    "start_time": "2021-11-16T11:01:48.754Z"
   },
   {
    "duration": 3,
    "start_time": "2021-11-16T11:02:16.685Z"
   },
   {
    "duration": 3,
    "start_time": "2021-11-16T11:02:19.479Z"
   },
   {
    "duration": 3,
    "start_time": "2021-11-16T11:02:47.067Z"
   },
   {
    "duration": 3,
    "start_time": "2021-11-16T11:02:49.353Z"
   },
   {
    "duration": 3,
    "start_time": "2021-11-16T11:03:07.835Z"
   },
   {
    "duration": 3,
    "start_time": "2021-11-16T11:03:07.953Z"
   },
   {
    "duration": 112,
    "start_time": "2021-11-16T11:07:52.072Z"
   },
   {
    "duration": 187,
    "start_time": "2021-11-16T11:09:23.468Z"
   },
   {
    "duration": 4,
    "start_time": "2021-11-16T11:10:01.455Z"
   },
   {
    "duration": 3,
    "start_time": "2021-11-16T11:10:05.069Z"
   },
   {
    "duration": 4,
    "start_time": "2021-11-16T11:10:13.376Z"
   },
   {
    "duration": 3,
    "start_time": "2021-11-16T11:10:14.434Z"
   },
   {
    "duration": 3,
    "start_time": "2021-11-16T11:10:22.853Z"
   },
   {
    "duration": 4,
    "start_time": "2021-11-16T11:27:29.279Z"
   },
   {
    "duration": 4,
    "start_time": "2021-11-16T11:29:08.919Z"
   },
   {
    "duration": 118,
    "start_time": "2021-11-16T11:29:46.703Z"
   },
   {
    "duration": 437,
    "start_time": "2021-11-16T11:36:02.181Z"
   },
   {
    "duration": 157,
    "start_time": "2021-11-16T11:36:14.388Z"
   },
   {
    "duration": 207,
    "start_time": "2021-11-16T11:47:15.898Z"
   },
   {
    "duration": 3,
    "start_time": "2021-11-16T11:53:52.092Z"
   },
   {
    "duration": 3,
    "start_time": "2021-11-16T11:53:52.236Z"
   },
   {
    "duration": 3,
    "start_time": "2021-11-16T11:59:12.005Z"
   },
   {
    "duration": 112,
    "start_time": "2021-11-16T12:00:33.446Z"
   },
   {
    "duration": 3,
    "start_time": "2021-11-16T12:02:14.453Z"
   },
   {
    "duration": 3,
    "start_time": "2021-11-16T12:02:39.512Z"
   },
   {
    "duration": 106,
    "start_time": "2021-11-16T12:03:03.460Z"
   },
   {
    "duration": 3,
    "start_time": "2021-11-17T20:37:21.139Z"
   },
   {
    "duration": 3,
    "start_time": "2021-11-17T20:37:22.229Z"
   },
   {
    "duration": 3,
    "start_time": "2021-11-17T20:38:38.806Z"
   },
   {
    "duration": 3,
    "start_time": "2021-11-17T20:38:41.958Z"
   },
   {
    "duration": 3,
    "start_time": "2021-11-17T20:43:46.551Z"
   },
   {
    "duration": 4,
    "start_time": "2021-11-17T20:58:21.835Z"
   },
   {
    "duration": 3,
    "start_time": "2021-11-17T20:59:21.872Z"
   },
   {
    "duration": 4,
    "start_time": "2021-11-17T20:59:45.352Z"
   },
   {
    "duration": 4,
    "start_time": "2021-11-17T20:59:49.646Z"
   },
   {
    "duration": 159,
    "start_time": "2021-11-17T21:02:26.949Z"
   },
   {
    "duration": 3,
    "start_time": "2021-11-17T21:03:53.461Z"
   },
   {
    "duration": 3,
    "start_time": "2021-11-17T21:03:53.694Z"
   },
   {
    "duration": 3,
    "start_time": "2021-11-17T21:05:28.145Z"
   },
   {
    "duration": 116,
    "start_time": "2021-11-17T21:05:57.787Z"
   },
   {
    "duration": 3,
    "start_time": "2021-11-17T21:06:37.993Z"
   },
   {
    "duration": 3,
    "start_time": "2021-11-17T21:06:38.261Z"
   },
   {
    "duration": 3,
    "start_time": "2021-11-17T21:11:54.358Z"
   },
   {
    "duration": 3,
    "start_time": "2021-11-17T21:12:43.846Z"
   },
   {
    "duration": 4,
    "start_time": "2021-11-17T21:13:08.773Z"
   },
   {
    "duration": 3,
    "start_time": "2021-11-17T21:14:44.441Z"
   },
   {
    "duration": 3,
    "start_time": "2021-11-17T21:15:42.059Z"
   },
   {
    "duration": 4,
    "start_time": "2021-11-17T21:15:51.995Z"
   },
   {
    "duration": 3,
    "start_time": "2021-11-17T21:15:53.923Z"
   },
   {
    "duration": 3,
    "start_time": "2021-11-17T21:15:55.282Z"
   },
   {
    "duration": 3,
    "start_time": "2021-11-17T21:16:28.492Z"
   },
   {
    "duration": 3,
    "start_time": "2021-11-17T21:16:32.603Z"
   },
   {
    "duration": 3,
    "start_time": "2021-11-17T21:17:06.941Z"
   },
   {
    "duration": 98,
    "start_time": "2021-11-17T21:18:05.733Z"
   },
   {
    "duration": 4,
    "start_time": "2021-11-17T21:21:35.255Z"
   },
   {
    "duration": 3,
    "start_time": "2021-11-17T21:21:37.804Z"
   },
   {
    "duration": 4,
    "start_time": "2021-11-17T21:23:06.071Z"
   },
   {
    "duration": 3,
    "start_time": "2021-11-17T21:23:24.799Z"
   },
   {
    "duration": 3,
    "start_time": "2021-11-17T21:23:32.591Z"
   },
   {
    "duration": 98,
    "start_time": "2021-11-17T21:28:31.559Z"
   },
   {
    "duration": 3,
    "start_time": "2021-11-17T21:28:45.448Z"
   },
   {
    "duration": 3,
    "start_time": "2021-11-17T21:29:17.303Z"
   },
   {
    "duration": 3,
    "start_time": "2021-11-17T21:29:29.617Z"
   },
   {
    "duration": 3,
    "start_time": "2021-11-17T21:29:32.681Z"
   },
   {
    "duration": 3,
    "start_time": "2021-11-17T21:36:11.474Z"
   },
   {
    "duration": 3,
    "start_time": "2021-11-17T21:36:14.791Z"
   },
   {
    "duration": 3,
    "start_time": "2021-11-17T21:36:53.943Z"
   },
   {
    "duration": 3,
    "start_time": "2021-11-17T21:36:56.165Z"
   },
   {
    "duration": 4,
    "start_time": "2021-11-17T21:37:16.590Z"
   },
   {
    "duration": 3,
    "start_time": "2021-11-17T21:37:22.702Z"
   },
   {
    "duration": 4,
    "start_time": "2021-11-17T21:38:03.479Z"
   },
   {
    "duration": 3,
    "start_time": "2021-11-17T21:38:08.601Z"
   },
   {
    "duration": 3,
    "start_time": "2021-11-17T21:38:12.928Z"
   },
   {
    "duration": 3,
    "start_time": "2021-11-17T21:38:48.896Z"
   },
   {
    "duration": 2,
    "start_time": "2021-11-17T21:38:49.171Z"
   },
   {
    "duration": 4,
    "start_time": "2021-11-17T21:39:57.889Z"
   },
   {
    "duration": 3,
    "start_time": "2021-11-17T21:39:58.057Z"
   },
   {
    "duration": 3,
    "start_time": "2021-11-17T21:41:20.108Z"
   },
   {
    "duration": 3,
    "start_time": "2021-11-17T21:41:20.629Z"
   },
   {
    "duration": 3,
    "start_time": "2021-11-17T21:42:49.136Z"
   },
   {
    "duration": 3,
    "start_time": "2021-11-17T21:43:15.137Z"
   },
   {
    "duration": 4,
    "start_time": "2021-11-17T21:43:16.766Z"
   },
   {
    "duration": 4,
    "start_time": "2021-11-17T21:43:31.711Z"
   },
   {
    "duration": 3,
    "start_time": "2021-11-17T21:43:36.312Z"
   },
   {
    "duration": 4,
    "start_time": "2021-11-17T21:45:08.825Z"
   },
   {
    "duration": 4,
    "start_time": "2021-11-17T21:45:10.119Z"
   },
   {
    "duration": 4,
    "start_time": "2021-11-17T21:45:13.748Z"
   },
   {
    "duration": 3,
    "start_time": "2021-11-17T21:45:22.219Z"
   },
   {
    "duration": 3,
    "start_time": "2021-11-17T21:45:33.412Z"
   },
   {
    "duration": 2,
    "start_time": "2021-11-17T21:46:01.885Z"
   },
   {
    "duration": 3,
    "start_time": "2021-11-17T21:46:03.628Z"
   },
   {
    "duration": 107,
    "start_time": "2021-11-17T21:47:32.512Z"
   },
   {
    "duration": 103,
    "start_time": "2021-11-17T21:50:36.243Z"
   },
   {
    "duration": 3,
    "start_time": "2021-11-18T06:28:31.440Z"
   },
   {
    "duration": 3,
    "start_time": "2021-11-18T06:29:00.168Z"
   },
   {
    "duration": 3,
    "start_time": "2021-11-18T06:31:27.008Z"
   },
   {
    "duration": 2,
    "start_time": "2021-11-18T06:35:34.288Z"
   },
   {
    "duration": 2,
    "start_time": "2021-11-18T06:38:04.527Z"
   }
  ],
  "kernelspec": {
   "display_name": "Python 3 (ipykernel)",
   "language": "python",
   "name": "python3"
  },
  "language_info": {
   "codemirror_mode": {
    "name": "ipython",
    "version": 3
   },
   "file_extension": ".py",
   "mimetype": "text/x-python",
   "name": "python",
   "nbconvert_exporter": "python",
   "pygments_lexer": "ipython3",
   "version": "3.9.23"
  },
  "toc": {
   "base_numbering": 1,
   "nav_menu": {},
   "number_sections": true,
   "sideBar": true,
   "skip_h1_title": false,
   "title_cell": "Table of Contents",
   "title_sidebar": "Contents",
   "toc_cell": false,
   "toc_position": {},
   "toc_section_display": true,
   "toc_window_display": true
  }
 },
 "nbformat": 4,
 "nbformat_minor": 4
}
